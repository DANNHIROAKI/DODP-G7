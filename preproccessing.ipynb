{
 "cells": [
  {
   "cell_type": "code",
   "execution_count": 3,
   "metadata": {},
   "outputs": [
    {
     "name": "stderr",
     "output_type": "stream",
     "text": [
      "C:\\Users\\Administrator\\AppData\\Local\\Temp\\ipykernel_44252\\125539095.py:5: DeprecationWarning: pkg_resources is deprecated as an API. See https://setuptools.pypa.io/en/latest/pkg_resources.html\n",
      "  import pkg_resources\n",
      "[nltk_data] Downloading package punkt to\n",
      "[nltk_data]     C:\\Users\\Administrator\\AppData\\Roaming\\nltk_data...\n",
      "[nltk_data]   Package punkt is already up-to-date!\n",
      "[nltk_data] Downloading package stopwords to\n",
      "[nltk_data]     C:\\Users\\Administrator\\AppData\\Roaming\\nltk_data...\n",
      "[nltk_data]   Package stopwords is already up-to-date!\n",
      "[nltk_data] Downloading package wordnet to\n",
      "[nltk_data]     C:\\Users\\Administrator\\AppData\\Roaming\\nltk_data...\n",
      "[nltk_data]   Package wordnet is already up-to-date!\n",
      "[nltk_data] Downloading package omw-1.4 to\n",
      "[nltk_data]     C:\\Users\\Administrator\\AppData\\Roaming\\nltk_data...\n",
      "[nltk_data]   Package omw-1.4 is already up-to-date!\n",
      "d:\\Python_Environment\\Anaconda3\\envs\\EODP-2\\Lib\\site-packages\\tqdm\\auto.py:21: TqdmWarning: IProgress not found. Please update jupyter and ipywidgets. See https://ipywidgets.readthedocs.io/en/stable/user_install.html\n",
      "  from .autonotebook import tqdm as notebook_tqdm\n"
     ]
    },
    {
     "name": "stdout",
     "output_type": "stream",
     "text": [
      "annotated-types==0.6.0\n",
      "asttokens==2.4.1\n",
      "blis==0.7.11\n",
      "catalogue==2.0.10\n",
      "certifi==2024.2.2\n",
      "charset-normalizer==3.3.2\n",
      "click==8.1.7\n",
      "cloudpathlib==0.16.0\n",
      "colorama==0.4.6\n",
      "comm==0.2.2\n",
      "confection==0.1.4\n",
      "contourpy==1.2.0\n",
      "cycler==0.11.0\n",
      "cymem==2.0.8\n",
      "debugpy==1.8.1\n",
      "decorator==5.1.1\n",
      "en-core-web-md==3.7.1\n",
      "en-core-web-sm==3.7.1\n",
      "exceptiongroup==1.2.0\n",
      "executing==2.0.1\n",
      "filelock==3.14.0\n",
      "fonttools==4.51.0\n",
      "fsspec==2024.3.1\n",
      "fuzzywuzzy==0.18.0\n",
      "gensim==4.3.2\n",
      "huggingface-hub==0.22.2\n",
      "idna==3.7\n",
      "imageio==2.34.1\n",
      "importlib-metadata==7.1.0\n",
      "intel-openmp==2021.4.0\n",
      "ipykernel==6.29.3\n",
      "ipython==8.22.2\n",
      "jedi==0.19.1\n",
      "jellyfish==0.11.2\n",
      "jinja2==3.1.3\n",
      "joblib==1.4.0\n",
      "jupyter-client==8.6.1\n",
      "jupyter-core==5.7.2\n",
      "kiwisolver==1.4.4\n",
      "langcodes==3.4.0\n",
      "language-data==1.2.0\n",
      "lazy-loader==0.4\n",
      "levenshtein==0.25.1\n",
      "lime==0.2.0.1\n",
      "llvmlite==0.42.0\n",
      "marisa-trie==1.1.0\n",
      "markupsafe==2.1.3\n",
      "matplotlib-inline==0.1.7\n",
      "matplotlib==3.8.4\n",
      "mkl-fft==1.3.8\n",
      "mkl-random==1.2.4\n",
      "mkl-service==2.4.0\n",
      "mkl==2021.4.0\n",
      "mpld3==0.5.9\n",
      "mpmath==1.3.0\n",
      "murmurhash==1.0.10\n",
      "nest-asyncio==1.6.0\n",
      "networkx==3.3\n",
      "nltk==3.8.1\n",
      "numba==0.59.1\n",
      "numpy==1.26.4\n",
      "packaging==24.0\n",
      "pandas==2.2.2\n",
      "parso==0.8.4\n",
      "pickleshare==0.7.5\n",
      "pillow==10.3.0\n",
      "pip==23.3.1\n",
      "platformdirs==4.2.1\n",
      "preshed==3.0.9\n",
      "prompt-toolkit==3.0.42\n",
      "psutil==5.9.8\n",
      "pure-eval==0.2.2\n",
      "pycountry==23.12.11\n",
      "pydantic-core==2.18.2\n",
      "pydantic==2.7.1\n",
      "pygments==2.17.2\n",
      "pynndescent==0.5.12\n",
      "pyparsing==3.0.9\n",
      "python-dateutil==2.9.0\n",
      "python-levenshtein==0.25.1\n",
      "pytz==2024.1\n",
      "pywin32==306\n",
      "pyyaml==6.0.1\n",
      "pyzmq==26.0.2\n",
      "rapidfuzz==3.8.1\n",
      "regex==2024.4.28\n",
      "requests==2.31.0\n",
      "safetensors==0.4.3\n",
      "scikit-image==0.23.2\n",
      "scikit-learn==1.4.2\n",
      "scikit-surprise==1.1.3\n",
      "scipy==1.10.1\n",
      "seaborn==0.13.2\n",
      "setuptools==68.2.2\n",
      "six==1.16.0\n",
      "smart-open==6.4.0\n",
      "spacy-legacy==3.0.12\n",
      "spacy-loggers==1.0.5\n",
      "spacy==3.7.4\n",
      "srsly==2.4.8\n",
      "stack-data==0.6.2\n",
      "surprise==0.1\n",
      "sympy==1.12\n",
      "tbb==2021.12.0\n",
      "thinc==8.2.3\n",
      "threadpoolctl==3.4.0\n",
      "tifffile==2024.5.3\n",
      "tokenizers==0.19.1\n",
      "torch==2.3.0\n",
      "tornado==6.4\n",
      "tqdm==4.66.2\n",
      "traitlets==5.14.3\n",
      "transformers==4.40.1\n",
      "typer==0.9.4\n",
      "typing-extensions==4.11.0\n",
      "tzdata==2024.1\n",
      "umap-learn==0.5.6\n",
      "unicodedata2==15.1.0\n",
      "urllib3==2.2.1\n",
      "us==3.1.1\n",
      "wasabi==1.1.2\n",
      "wcwidth==0.2.13\n",
      "weasel==0.3.4\n",
      "wheel==0.41.2\n",
      "wordcloud==1.9.3\n",
      "wrapt==1.14.1\n",
      "zipp==3.17.0\n"
     ]
    }
   ],
   "source": [
    "import numpy as np\n",
    "import pandas as pd\n",
    "import matplotlib.pyplot as plt\n",
    "import seaborn as sns\n",
    "import pkg_resources\n",
    "\n",
    "import nltk\n",
    "from wordcloud import WordCloud\n",
    "\n",
    "from gensim.models import Word2Vec\n",
    "from sklearn.preprocessing import StandardScaler\n",
    "from sklearn.preprocessing import OrdinalEncoder\n",
    "nltk.download ('punkt')\n",
    "nltk.download ('stopwords')\n",
    "nltk.download('wordnet')\n",
    "nltk.download('omw-1.4')\n",
    "import spacy\n",
    "import torch\n",
    "from transformers import BertTokenizer, BertModel\n",
    "import torch\n",
    "import umap\n",
    "from sklearn.metrics import mutual_info_score\n",
    "\n",
    "import warnings\n",
    "warnings.filterwarnings('ignore', category=UserWarning)\n",
    "\n",
    "# print all the imported libs\n",
    "installed_packages = pkg_resources.working_set\n",
    "installed_packages_list = sorted([\"%s==%s\" % (i.key, i.version) for i in installed_packages])\n",
    "for m in installed_packages_list:\n",
    "    print(m)"
   ]
  },
  {
   "cell_type": "markdown",
   "metadata": {},
   "source": [
    "# 1. Read Data"
   ]
  },
  {
   "cell_type": "markdown",
   "metadata": {},
   "source": [
    "## 1.1. Read Data and Show the Head"
   ]
  },
  {
   "cell_type": "code",
   "execution_count": 4,
   "metadata": {},
   "outputs": [
    {
     "data": {
      "text/html": [
       "<div>\n",
       "<style scoped>\n",
       "    .dataframe tbody tr th:only-of-type {\n",
       "        vertical-align: middle;\n",
       "    }\n",
       "\n",
       "    .dataframe tbody tr th {\n",
       "        vertical-align: top;\n",
       "    }\n",
       "\n",
       "    .dataframe thead th {\n",
       "        text-align: right;\n",
       "    }\n",
       "</style>\n",
       "<table border=\"1\" class=\"dataframe\">\n",
       "  <thead>\n",
       "    <tr style=\"text-align: right;\">\n",
       "      <th></th>\n",
       "      <th>ISBN</th>\n",
       "      <th>Book-Title</th>\n",
       "      <th>Book-Author</th>\n",
       "      <th>Year-Of-Publication</th>\n",
       "      <th>Book-Publisher</th>\n",
       "    </tr>\n",
       "  </thead>\n",
       "  <tbody>\n",
       "    <tr>\n",
       "      <th>0</th>\n",
       "      <td>0002005018</td>\n",
       "      <td>Clara Callan</td>\n",
       "      <td>Richard Bruce Wright</td>\n",
       "      <td>2001</td>\n",
       "      <td>HarperFlamingo Canada</td>\n",
       "    </tr>\n",
       "    <tr>\n",
       "      <th>1</th>\n",
       "      <td>0374157065</td>\n",
       "      <td>Flu: The Story of the Great Influenza Pandemic...</td>\n",
       "      <td>Gina Bari Kolata</td>\n",
       "      <td>1999</td>\n",
       "      <td>Farrar Straus Giroux</td>\n",
       "    </tr>\n",
       "    <tr>\n",
       "      <th>2</th>\n",
       "      <td>0399135782</td>\n",
       "      <td>The Kitchen God's Wife</td>\n",
       "      <td>Amy Tan</td>\n",
       "      <td>1991</td>\n",
       "      <td>Putnam Pub Group</td>\n",
       "    </tr>\n",
       "    <tr>\n",
       "      <th>3</th>\n",
       "      <td>0440234743</td>\n",
       "      <td>The Testament</td>\n",
       "      <td>John Grisham</td>\n",
       "      <td>1999</td>\n",
       "      <td>Dell</td>\n",
       "    </tr>\n",
       "    <tr>\n",
       "      <th>4</th>\n",
       "      <td>0452264464</td>\n",
       "      <td>Beloved (Plume Contemporary Fiction)</td>\n",
       "      <td>Toni Morrison</td>\n",
       "      <td>1994</td>\n",
       "      <td>Plume</td>\n",
       "    </tr>\n",
       "  </tbody>\n",
       "</table>\n",
       "</div>"
      ],
      "text/plain": [
       "         ISBN                                         Book-Title  \\\n",
       "0  0002005018                                       Clara Callan   \n",
       "1  0374157065  Flu: The Story of the Great Influenza Pandemic...   \n",
       "2  0399135782                             The Kitchen God's Wife   \n",
       "3  0440234743                                      The Testament   \n",
       "4  0452264464               Beloved (Plume Contemporary Fiction)   \n",
       "\n",
       "            Book-Author  Year-Of-Publication         Book-Publisher  \n",
       "0  Richard Bruce Wright                 2001  HarperFlamingo Canada  \n",
       "1      Gina Bari Kolata                 1999   Farrar Straus Giroux  \n",
       "2               Amy Tan                 1991       Putnam Pub Group  \n",
       "3          John Grisham                 1999                   Dell  \n",
       "4         Toni Morrison                 1994                  Plume  "
      ]
     },
     "metadata": {},
     "output_type": "display_data"
    },
    {
     "data": {
      "text/html": [
       "<div>\n",
       "<style scoped>\n",
       "    .dataframe tbody tr th:only-of-type {\n",
       "        vertical-align: middle;\n",
       "    }\n",
       "\n",
       "    .dataframe tbody tr th {\n",
       "        vertical-align: top;\n",
       "    }\n",
       "\n",
       "    .dataframe thead th {\n",
       "        text-align: right;\n",
       "    }\n",
       "</style>\n",
       "<table border=\"1\" class=\"dataframe\">\n",
       "  <thead>\n",
       "    <tr style=\"text-align: right;\">\n",
       "      <th></th>\n",
       "      <th>User-ID</th>\n",
       "      <th>ISBN</th>\n",
       "      <th>Book-Rating</th>\n",
       "    </tr>\n",
       "  </thead>\n",
       "  <tbody>\n",
       "    <tr>\n",
       "      <th>0</th>\n",
       "      <td>276744</td>\n",
       "      <td>038550120X</td>\n",
       "      <td>7</td>\n",
       "    </tr>\n",
       "    <tr>\n",
       "      <th>1</th>\n",
       "      <td>276754</td>\n",
       "      <td>0684867621</td>\n",
       "      <td>8</td>\n",
       "    </tr>\n",
       "    <tr>\n",
       "      <th>2</th>\n",
       "      <td>276755</td>\n",
       "      <td>0451166892</td>\n",
       "      <td>5</td>\n",
       "    </tr>\n",
       "    <tr>\n",
       "      <th>3</th>\n",
       "      <td>276762</td>\n",
       "      <td>0380711524</td>\n",
       "      <td>5</td>\n",
       "    </tr>\n",
       "    <tr>\n",
       "      <th>4</th>\n",
       "      <td>276772</td>\n",
       "      <td>0553572369</td>\n",
       "      <td>7</td>\n",
       "    </tr>\n",
       "  </tbody>\n",
       "</table>\n",
       "</div>"
      ],
      "text/plain": [
       "   User-ID        ISBN  Book-Rating\n",
       "0   276744  038550120X            7\n",
       "1   276754  0684867621            8\n",
       "2   276755  0451166892            5\n",
       "3   276762  0380711524            5\n",
       "4   276772  0553572369            7"
      ]
     },
     "metadata": {},
     "output_type": "display_data"
    },
    {
     "data": {
      "text/html": [
       "<div>\n",
       "<style scoped>\n",
       "    .dataframe tbody tr th:only-of-type {\n",
       "        vertical-align: middle;\n",
       "    }\n",
       "\n",
       "    .dataframe tbody tr th {\n",
       "        vertical-align: top;\n",
       "    }\n",
       "\n",
       "    .dataframe thead th {\n",
       "        text-align: right;\n",
       "    }\n",
       "</style>\n",
       "<table border=\"1\" class=\"dataframe\">\n",
       "  <thead>\n",
       "    <tr style=\"text-align: right;\">\n",
       "      <th></th>\n",
       "      <th>User-ID</th>\n",
       "      <th>User-City</th>\n",
       "      <th>User-State</th>\n",
       "      <th>User-Country</th>\n",
       "      <th>User-Age</th>\n",
       "    </tr>\n",
       "  </thead>\n",
       "  <tbody>\n",
       "    <tr>\n",
       "      <th>0</th>\n",
       "      <td>8</td>\n",
       "      <td>timmins</td>\n",
       "      <td>ontario</td>\n",
       "      <td>canada\"</td>\n",
       "      <td>NaN</td>\n",
       "    </tr>\n",
       "    <tr>\n",
       "      <th>1</th>\n",
       "      <td>9</td>\n",
       "      <td>germantown</td>\n",
       "      <td>tennessee</td>\n",
       "      <td>usa\"</td>\n",
       "      <td>NaN</td>\n",
       "    </tr>\n",
       "    <tr>\n",
       "      <th>2</th>\n",
       "      <td>16</td>\n",
       "      <td>albuquerque</td>\n",
       "      <td>new mexico</td>\n",
       "      <td>usa\"</td>\n",
       "      <td>NaN</td>\n",
       "    </tr>\n",
       "    <tr>\n",
       "      <th>3</th>\n",
       "      <td>17</td>\n",
       "      <td>chesapeake</td>\n",
       "      <td>virginia</td>\n",
       "      <td>usa\"</td>\n",
       "      <td>NaN</td>\n",
       "    </tr>\n",
       "    <tr>\n",
       "      <th>4</th>\n",
       "      <td>19</td>\n",
       "      <td>weston</td>\n",
       "      <td></td>\n",
       "      <td>NaN</td>\n",
       "      <td>14\"</td>\n",
       "    </tr>\n",
       "  </tbody>\n",
       "</table>\n",
       "</div>"
      ],
      "text/plain": [
       "   User-ID    User-City   User-State User-Country User-Age\n",
       "0        8      timmins      ontario      canada\"      NaN\n",
       "1        9   germantown    tennessee         usa\"      NaN\n",
       "2       16  albuquerque   new mexico         usa\"      NaN\n",
       "3       17   chesapeake     virginia         usa\"      NaN\n",
       "4       19       weston                       NaN      14\""
      ]
     },
     "metadata": {},
     "output_type": "display_data"
    }
   ],
   "source": [
    "# Load book data from the specified path and store it in the 'books' DataFrame\n",
    "books = pd.read_csv(\"Data-Files\\\\BX-Books.csv\")\n",
    "# Load ratings data from the specified path and store it in the 'ratings' DataFrame\n",
    "ratings = pd.read_csv(\"Data-Files\\\\BX-Ratings.csv\")\n",
    "# Load user data from the specified path and store it in the 'users' DataFrame\n",
    "users = pd.read_csv(\"Data-Files\\\\BX-Users.csv\")\n",
    "\n",
    "# Display the first five rows of the 'books' DataFrame\n",
    "display(books.head())\n",
    "# Display the first five rows of the 'ratings' DataFrame\n",
    "display(ratings.head())\n",
    "# Display the first five rows of the 'users' DataFrame\n",
    "display(users.head())\n",
    "\n"
   ]
  },
  {
   "cell_type": "markdown",
   "metadata": {},
   "source": [
    "## 1.2. Missing Value"
   ]
  },
  {
   "cell_type": "code",
   "execution_count": 5,
   "metadata": {},
   "outputs": [
    {
     "data": {
      "text/plain": [
       "ISBN                   0\n",
       "Book-Title             0\n",
       "Book-Author            0\n",
       "Year-Of-Publication    0\n",
       "Book-Publisher         0\n",
       "dtype: int64"
      ]
     },
     "metadata": {},
     "output_type": "display_data"
    },
    {
     "data": {
      "text/plain": [
       "User-ID        0\n",
       "ISBN           0\n",
       "Book-Rating    0\n",
       "dtype: int64"
      ]
     },
     "metadata": {},
     "output_type": "display_data"
    },
    {
     "data": {
      "text/plain": [
       "User-ID             0\n",
       "User-City          61\n",
       "User-State          0\n",
       "User-Country      669\n",
       "User-Age        18952\n",
       "dtype: int64"
      ]
     },
     "metadata": {},
     "output_type": "display_data"
    }
   ],
   "source": [
    "# Print the number of missing values in each column for 'books'\n",
    "display(books.isna().sum())\n",
    "# Print the number of missing values in each column for 'ratings'\n",
    "display(ratings.isna().sum())\n",
    "# Print the number of missing values in each column for 'users'\n",
    "display(users.isna().sum())"
   ]
  },
  {
   "cell_type": "markdown",
   "metadata": {},
   "source": [
    "😡User has too many missing values, which is the main task of our User preprocessing"
   ]
  },
  {
   "cell_type": "markdown",
   "metadata": {},
   "source": [
    "# 2. Preprocessing Users"
   ]
  },
  {
   "cell_type": "markdown",
   "metadata": {},
   "source": [
    "👉Number of statistically unique cities/states/countries"
   ]
  },
  {
   "cell_type": "code",
   "execution_count": 6,
   "metadata": {},
   "outputs": [
    {
     "name": "stdout",
     "output_type": "stream",
     "text": [
      "Cities: 9545\n",
      "States: 1087\n",
      "Countries: 189\n"
     ]
    }
   ],
   "source": [
    "# The set() function creates an unordered set of unique elements, useful for removing duplicates. The len() function returns the length of the set.\n",
    "# Count and print the number of unique cities\n",
    "print(\"Cities:\", len(set(users[\"User-City\"])))\n",
    "# Count and print the number of unique states\n",
    "print(\"States:\", len(set(users[\"User-State\"])))\n",
    "# Count and print the number of unique countries\n",
    "print(\"Countries:\", len(set(users[\"User-Country\"])))"
   ]
  },
  {
   "cell_type": "markdown",
   "metadata": {},
   "source": [
    "## 2.1. Preprocessing User-Location"
   ]
  },
  {
   "cell_type": "markdown",
   "metadata": {},
   "source": [
    "### 2.1.1. Preprocessing User-City"
   ]
  },
  {
   "cell_type": "markdown",
   "metadata": {},
   "source": [
    "**1️⃣**Reading the world's country-state/province-city dataset\n",
    "\n",
    "<img src=\"https://s2.loli.net/2024/04/30/f5McPGpYDhutobH.png\" alt=\"image-20240501011854761\" style=\"zoom:50%;\" />"
   ]
  },
  {
   "cell_type": "markdown",
   "metadata": {},
   "source": [
    "**2️⃣**For each list of cities in the User data, fuzzy matching is performed with the cities in the database, and null values are directly removed\n",
    "\n",
    "<img src=\"https://s2.loli.net/2024/04/30/IWSs4jUz3QOcqHy.png\" alt=\"image-20240501012025615\" style=\"zoom:50%;\" />\n"
   ]
  },
  {
   "cell_type": "markdown",
   "metadata": {},
   "source": [
    "**3️⃣**The execution time is nearly 9 minutes, plus City is not very helpful to the recommender system, from which you can just remove the column of data"
   ]
  },
  {
   "cell_type": "code",
   "execution_count": 7,
   "metadata": {},
   "outputs": [
    {
     "data": {
      "text/html": [
       "<div>\n",
       "<style scoped>\n",
       "    .dataframe tbody tr th:only-of-type {\n",
       "        vertical-align: middle;\n",
       "    }\n",
       "\n",
       "    .dataframe tbody tr th {\n",
       "        vertical-align: top;\n",
       "    }\n",
       "\n",
       "    .dataframe thead th {\n",
       "        text-align: right;\n",
       "    }\n",
       "</style>\n",
       "<table border=\"1\" class=\"dataframe\">\n",
       "  <thead>\n",
       "    <tr style=\"text-align: right;\">\n",
       "      <th></th>\n",
       "      <th>User-ID</th>\n",
       "      <th>User-State</th>\n",
       "      <th>User-Country</th>\n",
       "      <th>User-Age</th>\n",
       "    </tr>\n",
       "  </thead>\n",
       "  <tbody>\n",
       "    <tr>\n",
       "      <th>0</th>\n",
       "      <td>8</td>\n",
       "      <td>ontario</td>\n",
       "      <td>canada\"</td>\n",
       "      <td>NaN</td>\n",
       "    </tr>\n",
       "    <tr>\n",
       "      <th>1</th>\n",
       "      <td>9</td>\n",
       "      <td>tennessee</td>\n",
       "      <td>usa\"</td>\n",
       "      <td>NaN</td>\n",
       "    </tr>\n",
       "    <tr>\n",
       "      <th>2</th>\n",
       "      <td>16</td>\n",
       "      <td>new mexico</td>\n",
       "      <td>usa\"</td>\n",
       "      <td>NaN</td>\n",
       "    </tr>\n",
       "    <tr>\n",
       "      <th>3</th>\n",
       "      <td>17</td>\n",
       "      <td>virginia</td>\n",
       "      <td>usa\"</td>\n",
       "      <td>NaN</td>\n",
       "    </tr>\n",
       "    <tr>\n",
       "      <th>4</th>\n",
       "      <td>19</td>\n",
       "      <td></td>\n",
       "      <td>NaN</td>\n",
       "      <td>14\"</td>\n",
       "    </tr>\n",
       "    <tr>\n",
       "      <th>...</th>\n",
       "      <td>...</td>\n",
       "      <td>...</td>\n",
       "      <td>...</td>\n",
       "      <td>...</td>\n",
       "    </tr>\n",
       "    <tr>\n",
       "      <th>48294</th>\n",
       "      <td>278846</td>\n",
       "      <td>ontario</td>\n",
       "      <td>canada\"</td>\n",
       "      <td>23</td>\n",
       "    </tr>\n",
       "    <tr>\n",
       "      <th>48295</th>\n",
       "      <td>278849</td>\n",
       "      <td>ontario</td>\n",
       "      <td>canada\"</td>\n",
       "      <td>23</td>\n",
       "    </tr>\n",
       "    <tr>\n",
       "      <th>48296</th>\n",
       "      <td>278851</td>\n",
       "      <td>texas</td>\n",
       "      <td>usa\"</td>\n",
       "      <td>33</td>\n",
       "    </tr>\n",
       "    <tr>\n",
       "      <th>48297</th>\n",
       "      <td>278852</td>\n",
       "      <td>queensland</td>\n",
       "      <td>australia\"</td>\n",
       "      <td>32</td>\n",
       "    </tr>\n",
       "    <tr>\n",
       "      <th>48298</th>\n",
       "      <td>278854</td>\n",
       "      <td>oregon</td>\n",
       "      <td>usa\"</td>\n",
       "      <td>NaN</td>\n",
       "    </tr>\n",
       "  </tbody>\n",
       "</table>\n",
       "<p>48299 rows × 4 columns</p>\n",
       "</div>"
      ],
      "text/plain": [
       "       User-ID   User-State User-Country User-Age\n",
       "0            8      ontario      canada\"      NaN\n",
       "1            9    tennessee         usa\"      NaN\n",
       "2           16   new mexico         usa\"      NaN\n",
       "3           17     virginia         usa\"      NaN\n",
       "4           19                       NaN      14\"\n",
       "...        ...          ...          ...      ...\n",
       "48294   278846      ontario      canada\"       23\n",
       "48295   278849      ontario      canada\"       23\n",
       "48296   278851        texas         usa\"       33\n",
       "48297   278852   queensland   australia\"       32\n",
       "48298   278854       oregon         usa\"      NaN\n",
       "\n",
       "[48299 rows x 4 columns]"
      ]
     },
     "execution_count": 7,
     "metadata": {},
     "output_type": "execute_result"
    }
   ],
   "source": [
    "users.drop(['User-City'], axis=1, inplace=True)\n",
    "users"
   ]
  },
  {
   "cell_type": "markdown",
   "metadata": {},
   "source": [
    "### 2.1.2. Preprocessing User-Country"
   ]
  },
  {
   "cell_type": "code",
   "execution_count": 8,
   "metadata": {},
   "outputs": [
    {
     "data": {
      "text/plain": [
       "0     canada\"\n",
       "1        usa\"\n",
       "2        usa\"\n",
       "3        usa\"\n",
       "4         NaN\n",
       "5        usa\"\n",
       "Name: User-Country, dtype: object"
      ]
     },
     "execution_count": 8,
     "metadata": {},
     "output_type": "execute_result"
    }
   ],
   "source": [
    "users[\"User-Country\"].head(6)"
   ]
  },
  {
   "cell_type": "markdown",
   "metadata": {},
   "source": [
    "🤔For non-missing values, the format usa\" is clearly not what we want."
   ]
  },
  {
   "cell_type": "code",
   "execution_count": 9,
   "metadata": {},
   "outputs": [
    {
     "name": "stdout",
     "output_type": "stream",
     "text": [
      "Countries: 189\n"
     ]
    }
   ],
   "source": [
    "print(\"Countries:\", len(set(users[\"User-Country\"])))"
   ]
  },
  {
   "cell_type": "markdown",
   "metadata": {},
   "source": [
    "🙉There are only 189 countries at most, so a mechanically simple method of handling missing values is used to speed up the process\n",
    "\n",
    "🥶Distinguished from the subsequent Book-Title, which is far more complex than User-Country"
   ]
  },
  {
   "cell_type": "markdown",
   "metadata": {},
   "source": [
    "#### 2.1.2.1. Cleaning of User-Country non-missing values"
   ]
  },
  {
   "cell_type": "markdown",
   "metadata": {},
   "source": [
    "**1️⃣**Replace \"with a space and then remove the whitespace before and after the string\n",
    "```Python\n",
    "users[\"User-Country\"].str.replace('\"', ' ').str.strip()\n",
    "```\n",
    "\n",
    "**2️⃣**Convert all text to uppercase\n",
    "```Python\n",
    "users[\"User-Country\"].str.replace('\"', ' ').str.strip().str.upper()\n",
    "```\n",
    "\n",
    "**3️⃣**Replaces strings containing only spaces with missing value objects pd.NA\n",
    "```Python\n",
    "users[\"User-Country\"].str.replace('\"', ' ').str.strip().str.upper().replace(' ', pd.NA)\n",
    "```"
   ]
  },
  {
   "cell_type": "code",
   "execution_count": 10,
   "metadata": {},
   "outputs": [
    {
     "data": {
      "text/html": [
       "<div>\n",
       "<style scoped>\n",
       "    .dataframe tbody tr th:only-of-type {\n",
       "        vertical-align: middle;\n",
       "    }\n",
       "\n",
       "    .dataframe tbody tr th {\n",
       "        vertical-align: top;\n",
       "    }\n",
       "\n",
       "    .dataframe thead th {\n",
       "        text-align: right;\n",
       "    }\n",
       "</style>\n",
       "<table border=\"1\" class=\"dataframe\">\n",
       "  <thead>\n",
       "    <tr style=\"text-align: right;\">\n",
       "      <th></th>\n",
       "      <th>User-ID</th>\n",
       "      <th>User-State</th>\n",
       "      <th>User-Country</th>\n",
       "      <th>User-Age</th>\n",
       "    </tr>\n",
       "  </thead>\n",
       "  <tbody>\n",
       "    <tr>\n",
       "      <th>0</th>\n",
       "      <td>8</td>\n",
       "      <td>ontario</td>\n",
       "      <td>CANADA</td>\n",
       "      <td>NaN</td>\n",
       "    </tr>\n",
       "    <tr>\n",
       "      <th>1</th>\n",
       "      <td>9</td>\n",
       "      <td>tennessee</td>\n",
       "      <td>USA</td>\n",
       "      <td>NaN</td>\n",
       "    </tr>\n",
       "    <tr>\n",
       "      <th>2</th>\n",
       "      <td>16</td>\n",
       "      <td>new mexico</td>\n",
       "      <td>USA</td>\n",
       "      <td>NaN</td>\n",
       "    </tr>\n",
       "    <tr>\n",
       "      <th>3</th>\n",
       "      <td>17</td>\n",
       "      <td>virginia</td>\n",
       "      <td>USA</td>\n",
       "      <td>NaN</td>\n",
       "    </tr>\n",
       "    <tr>\n",
       "      <th>4</th>\n",
       "      <td>19</td>\n",
       "      <td></td>\n",
       "      <td>NaN</td>\n",
       "      <td>14\"</td>\n",
       "    </tr>\n",
       "    <tr>\n",
       "      <th>...</th>\n",
       "      <td>...</td>\n",
       "      <td>...</td>\n",
       "      <td>...</td>\n",
       "      <td>...</td>\n",
       "    </tr>\n",
       "    <tr>\n",
       "      <th>48294</th>\n",
       "      <td>278846</td>\n",
       "      <td>ontario</td>\n",
       "      <td>CANADA</td>\n",
       "      <td>23</td>\n",
       "    </tr>\n",
       "    <tr>\n",
       "      <th>48295</th>\n",
       "      <td>278849</td>\n",
       "      <td>ontario</td>\n",
       "      <td>CANADA</td>\n",
       "      <td>23</td>\n",
       "    </tr>\n",
       "    <tr>\n",
       "      <th>48296</th>\n",
       "      <td>278851</td>\n",
       "      <td>texas</td>\n",
       "      <td>USA</td>\n",
       "      <td>33</td>\n",
       "    </tr>\n",
       "    <tr>\n",
       "      <th>48297</th>\n",
       "      <td>278852</td>\n",
       "      <td>queensland</td>\n",
       "      <td>AUSTRALIA</td>\n",
       "      <td>32</td>\n",
       "    </tr>\n",
       "    <tr>\n",
       "      <th>48298</th>\n",
       "      <td>278854</td>\n",
       "      <td>oregon</td>\n",
       "      <td>USA</td>\n",
       "      <td>NaN</td>\n",
       "    </tr>\n",
       "  </tbody>\n",
       "</table>\n",
       "<p>48299 rows × 4 columns</p>\n",
       "</div>"
      ],
      "text/plain": [
       "       User-ID   User-State User-Country User-Age\n",
       "0            8      ontario       CANADA      NaN\n",
       "1            9    tennessee          USA      NaN\n",
       "2           16   new mexico          USA      NaN\n",
       "3           17     virginia          USA      NaN\n",
       "4           19                       NaN      14\"\n",
       "...        ...          ...          ...      ...\n",
       "48294   278846      ontario       CANADA       23\n",
       "48295   278849      ontario       CANADA       23\n",
       "48296   278851        texas          USA       33\n",
       "48297   278852   queensland    AUSTRALIA       32\n",
       "48298   278854       oregon          USA      NaN\n",
       "\n",
       "[48299 rows x 4 columns]"
      ]
     },
     "metadata": {},
     "output_type": "display_data"
    }
   ],
   "source": [
    "users[\"User-Country\"] = users[\"User-Country\"].str.replace('\"', ' ').str.strip().str.upper().replace(' ', pd.NA)\n",
    "display(users)"
   ]
  },
  {
   "cell_type": "markdown",
   "metadata": {},
   "source": [
    "#### 2.1.2.2. Filling in missing values for User-Country"
   ]
  },
  {
   "cell_type": "markdown",
   "metadata": {},
   "source": [
    "🥰The best option for establishing mappings here is to use internal data, as there is consistency in the data\n",
    "\n",
    "👉Processing with external databases is ineffective due to the existence of aliases and abbreviations for country names, state names, etc., and fuzzy matching is quite costly to process"
   ]
  },
  {
   "cell_type": "markdown",
   "metadata": {},
   "source": [
    "##### 2.1.2.2.1. Create a mapping of State⬅️➡️Country"
   ]
  },
  {
   "cell_type": "markdown",
   "metadata": {},
   "source": [
    "**1️⃣**Filtering out records with valid country information"
   ]
  },
  {
   "cell_type": "code",
   "execution_count": 11,
   "metadata": {},
   "outputs": [],
   "source": [
    "# Keep only the non-null values in the 'User-Country' column of the users DataFrame and store it in valid_countries.\n",
    "valid_countries = users.dropna(subset=['User-Country'])\n"
   ]
  },
  {
   "cell_type": "markdown",
   "metadata": {},
   "source": [
    "**2️⃣**Statistics State⬅️➡️Country corresponding frequency\n",
    "\n",
    "🚗For example, California-USA appears 5109 times."
   ]
  },
  {
   "cell_type": "code",
   "execution_count": 12,
   "metadata": {},
   "outputs": [
    {
     "data": {
      "text/plain": [
       "User-State     User-Country\n",
       "california     USA             5109\n",
       "texas          USA             1991\n",
       "ontario        CANADA          1795\n",
       "new york       USA             1766\n",
       "florida        USA             1647\n",
       "                               ... \n",
       "n/a            RUSSIA             1\n",
       "               SAINT LUCIA        1\n",
       "               SOUTH AFRICA       1\n",
       "               SRI LANKA          1\n",
       "massachusetts  NETHERLANDS        1\n",
       "Name: count, Length: 1420, dtype: int64"
      ]
     },
     "execution_count": 12,
     "metadata": {},
     "output_type": "execute_result"
    }
   ],
   "source": [
    "# Use groupby and value_counts to calculate the frequency of each country corresponding to each state.\n",
    "country_counts = valid_countries.groupby('User-State')['User-Country'].value_counts().sort_values(ascending=False)\n",
    "country_counts"
   ]
  },
  {
   "cell_type": "markdown",
   "metadata": {},
   "source": [
    "**3️⃣**Create a mapping based on the highest frequency of occurrence\n",
    "\n",
    "🤔For example, if State1-Country1 occurs 100 times and State1-Country2 occurs 99 times, then the mapping retains only State1-Country1."
   ]
  },
  {
   "cell_type": "code",
   "execution_count": 13,
   "metadata": {},
   "outputs": [
    {
     "data": {
      "text/plain": [
       "{' ': 'USA',\n",
       " ' &#322;ódzkie': 'POLAND',\n",
       " ' (alacant)': 'SPAIN',\n",
       " ' (lisboa)': 'PORTUGAL',\n",
       " ' *': 'NETHERLANDS',\n",
       " ' -': 'NETHERLANDS',\n",
       " ' .': 'SAINT LUCIA',\n",
       " ' ...': 'GERMANY',\n",
       " ' <foreign>': 'UNITED KINGDOM',\n",
       " ' \\\\\"\\\\\"n/a\\\\\"': 'PORTUGAL',\n",
       " ' \\\\\"n/a\\\\\"': 'SPAIN',\n",
       " ' \\\\\"n/a\\\\\".': 'FRANCE',\n",
       " ' \\\\\"n/a`': 'PHILIPPINES',\n",
       " ' _': 'PORTUGAL',\n",
       " ' a coruña': 'SPAIN',\n",
       " ' aargau': 'SWITZERLAND',\n",
       " ' aarhus': 'DENMARK',\n",
       " ' abelokipi': 'GREECE',\n",
       " ' aberdeenshire': 'UNITED KINGDOM',\n",
       " ' aberta': 'CANADA',\n",
       " ' abilene': 'USA',\n",
       " ' abruzzo': 'ITALY',\n",
       " ' act': 'AUSTRALIA',\n",
       " ' ae': 'USA',\n",
       " ' ag': 'SWITZERLAND',\n",
       " ' ag/bs': 'SWITZERLAND',\n",
       " ' ahmedi': 'KUWAIT',\n",
       " ' ain': 'FRANCE',\n",
       " ' ak.': 'USA',\n",
       " ' akershus': 'NORWAY',\n",
       " ' al': 'SHELBY',\n",
       " ' alabama': 'USA',\n",
       " ' alacant': 'SPAIN',\n",
       " ' alajuela': 'COSTA RICA',\n",
       " ' alaska': 'USA',\n",
       " ' alava': 'SPAIN',\n",
       " ' albacete': 'SPAIN',\n",
       " ' albay': 'PHILIPPINES',\n",
       " ' alberta': 'CANADA',\n",
       " ' alentejo': 'PORTUGAL',\n",
       " ' algarve': 'PORTUGAL',\n",
       " ' alicante': 'SPAIN',\n",
       " ' almada': 'PORTUGAL',\n",
       " ' almaty oblast': 'KAZAKHSTAN',\n",
       " ' alpes maritimes': 'FRANCE',\n",
       " ' alpes-maritimes': 'FRANCE',\n",
       " ' alsace': 'FRANCE',\n",
       " ' alto alentejo': 'PORTUGAL',\n",
       " ' amsterdam': 'NETHERLANDS',\n",
       " ' andalucia': 'SPAIN',\n",
       " ' andalucía': 'SPAIN',\n",
       " ' andalusia': 'SPAIN',\n",
       " ' andhra pradesh': 'INDIA',\n",
       " ' angus': 'UNITED KINGDOM',\n",
       " ' antarctica': 'ANTARCTICA',\n",
       " ' antwerp': 'BELGIUM',\n",
       " ' antwerpen': 'BELGIUM',\n",
       " ' anywhere - usa': 'USA',\n",
       " ' aomori prefecture': 'JAPAN',\n",
       " ' aomori-ken': 'JAPAN',\n",
       " ' ap': 'USA',\n",
       " ' apo': 'GERMANY',\n",
       " ' appenzell': 'SWITZERLAND',\n",
       " ' aquitaine': 'FRANCE',\n",
       " ' ar': 'USA',\n",
       " ' aragon': 'SPAIN',\n",
       " ' aragón': 'SPAIN',\n",
       " ' arizona': 'USA',\n",
       " ' arkansas': 'USA',\n",
       " ' armed forces europe': 'USA',\n",
       " ' armed forces pacific': 'USA',\n",
       " ' armed services europe': 'USA',\n",
       " ' asia': 'TURKMENISTAN',\n",
       " ' asturias': 'SPAIN',\n",
       " ' asturies': 'SPAIN',\n",
       " ' athens': 'GREECE',\n",
       " ' attika': 'GREECE',\n",
       " ' attiki': 'GREECE',\n",
       " ' auckland': 'NEW ZEALAND',\n",
       " ' australia': 'AUSTRALIA',\n",
       " ' australian capital territory': 'AUSTRALIA',\n",
       " ' austria': 'AUSTRIA',\n",
       " ' auvergne': 'FRANCE',\n",
       " ' aveiro': 'PORTUGAL',\n",
       " ' avon': 'UNITED KINGDOM',\n",
       " ' b.c.': 'CANADA',\n",
       " ' bacau': 'ROMANIA',\n",
       " ' badajoz': 'SPAIN',\n",
       " ' baden würrtemberg': 'GERMANY',\n",
       " ' baden württemberg': 'GERMANY',\n",
       " ' baden-wuerttemberg': 'GERMANY',\n",
       " ' baden-würtemberg': 'GERMANY',\n",
       " ' baden-württemberg': 'GERMANY',\n",
       " ' bahia': 'BRAZIL',\n",
       " ' baja california': 'MEXICO',\n",
       " ' baja california sur': 'MEXICO',\n",
       " ' baleares': 'SPAIN',\n",
       " ' bali': 'INDONESIA',\n",
       " ' balkonien': 'GERMANY',\n",
       " ' bangkok': 'THAILAND',\n",
       " ' banks peninsula': 'NEW ZEALAND',\n",
       " ' banstead': 'UNITED KINGDOM',\n",
       " ' barcelona': 'SPAIN',\n",
       " ' barcelones': 'SPAIN',\n",
       " ' bari': 'ITALY',\n",
       " ' barreiro': 'PORTUGAL',\n",
       " ' bas rhin': 'FRANCE',\n",
       " ' basel': 'SWITZERLAND',\n",
       " ' basel-stadt': 'SWITZERLAND',\n",
       " ' baselland': 'SWITZERLAND',\n",
       " ' basque country': 'SPAIN',\n",
       " ' basque country (euskal herria)': 'SPAIN',\n",
       " ' basse cote': 'GUINEA',\n",
       " ' basse normandie': 'FRANCE',\n",
       " ' bavaria': 'GERMANY',\n",
       " ' bavaria/bayern': 'GERMANY',\n",
       " ' bay of plenty': 'NEW ZEALAND',\n",
       " ' bayern': 'GERMANY',\n",
       " ' bayern / bavaria': 'GERMANY',\n",
       " ' bc': 'CANADA',\n",
       " ' be': 'SWITZERLAND',\n",
       " ' bedfordshire': 'UNITED KINGDOM',\n",
       " ' beijing': 'CHINA',\n",
       " ' beira litoral': 'PORTUGAL',\n",
       " ' belgium': 'BELGIUM',\n",
       " ' belize district': 'BELIZE',\n",
       " ' benalmádena': 'SPAIN',\n",
       " ' bergamo': 'ITALY',\n",
       " ' berguedà': 'SPAIN',\n",
       " ' berkshire': 'UNITED KINGDOM',\n",
       " ' berlin': 'GERMANY',\n",
       " ' bern': 'SWITZERLAND',\n",
       " ' berne': 'SWITZERLAND',\n",
       " ' berner oberland': 'SWITZERLAND',\n",
       " ' biella': 'ITALY',\n",
       " ' bihor': 'ROMANIA',\n",
       " ' bizkaia': 'SPAIN',\n",
       " ' bl': 'SWITZERLAND',\n",
       " ' bohemia': 'CZECH REPUBLIC',\n",
       " ' bohuslän': 'SWEDEN',\n",
       " ' bolzano': 'ITALY',\n",
       " ' bouches du rhône': 'FRANCE',\n",
       " ' bourgogne': 'FRANCE',\n",
       " ' box hill north': 'AUSTRALIA',\n",
       " ' brabant': 'BELGIUM',\n",
       " ' brabant wallon': 'BELGIUM',\n",
       " ' braga': 'PORTUGAL',\n",
       " ' brandenburg': 'GERMANY',\n",
       " ' bremen': 'GERMANY',\n",
       " ' bretagne': 'FRANCE',\n",
       " ' brighton': 'USA',\n",
       " ' bristol': 'UNITED KINGDOM',\n",
       " ' british  columbia': 'CANADA',\n",
       " ' british columbia': 'CANADA',\n",
       " ' brittany': 'FRANCE',\n",
       " ' brixton': 'UNITED KINGDOM',\n",
       " ' brussels': 'BELGIUM',\n",
       " ' bruxelles': 'BELGIUM',\n",
       " ' bs as': 'ARGENTINA',\n",
       " ' buckinghamshire': 'UNITED KINGDOM',\n",
       " ' buenos aires': 'ARGENTINA',\n",
       " ' bulacan': 'PHILIPPINES',\n",
       " ' bulgaria': 'BULGARIA',\n",
       " ' burgenland': 'AUSTRIA',\n",
       " ' burgos': 'SPAIN',\n",
       " ' bw': 'GERMANY',\n",
       " ' c': 'C',\n",
       " ' c.t': 'USA',\n",
       " ' ca': 'USA',\n",
       " ' caazapa': 'PARAGUAY',\n",
       " ' cadiz': 'SPAIN',\n",
       " ' cairo': 'EGYPT',\n",
       " ' cairo governate': 'EGYPT',\n",
       " ' cairo governorate': 'EGYPT',\n",
       " ' calabria': 'USA',\n",
       " ' calfiornia': 'USA',\n",
       " ' california': 'USA',\n",
       " ' callif': 'USA',\n",
       " ' cambridgeshire': 'UNITED KINGDOM',\n",
       " ' campania': 'ITALY',\n",
       " ' canada': 'CANADA',\n",
       " ' canarias': 'SPAIN',\n",
       " ' canarias/gran canaria': 'SPAIN',\n",
       " ' cantabria': 'SPAIN',\n",
       " ' cantabury': 'NEW ZEALAND',\n",
       " ' cantabury/ nz': 'NEW ZEALAND',\n",
       " ' canterbury': 'NEW ZEALAND',\n",
       " ' capital': 'ARGENTINA',\n",
       " ' capital district': 'ARGENTINA',\n",
       " ' capital federal': 'ARGENTINA',\n",
       " ' carabobo': 'VENEZUELA',\n",
       " ' cascadia': 'USA',\n",
       " ' cascais': 'PORTUGAL',\n",
       " ' cassablanca': 'MOROCCO',\n",
       " ' castilla': 'SPAIN',\n",
       " ' castilla y leon': 'SPAIN',\n",
       " ' castilla y león': 'SPAIN',\n",
       " ' castilla-la mancha': 'SPAIN',\n",
       " ' catalonia': 'SPAIN',\n",
       " ' catalunya': 'SPAIN',\n",
       " ' catalunya - barcelona': 'SPAIN',\n",
       " ' cataluña': 'SPAIN',\n",
       " ' causeway bay': 'HONG KONG',\n",
       " ' cavite': 'PHILIPPINES',\n",
       " ' cebu': 'PHILIPPINES',\n",
       " ' central': 'HONG KONG',\n",
       " ' central america': 'HONDURAS',\n",
       " ' centro': 'PORTUGAL',\n",
       " ' champagne ardennes': 'FRANCE',\n",
       " ' champagne-ardenne': 'FRANCE',\n",
       " ' champs sur marne': 'FRANCE',\n",
       " ' channel islands': 'GUERNSEY',\n",
       " ' cheshier': 'UNITED KINGDOM',\n",
       " ' cheshire': 'UNITED KINGDOM',\n",
       " ' chiapas': 'MEXICO',\n",
       " ' chiba': 'JAPAN',\n",
       " ' chihuahua': 'MEXICO',\n",
       " ' china': 'CHINA',\n",
       " ' chiswickl': 'UNITED KINGDOM',\n",
       " ' chorlton': 'UNITED KINGDOM',\n",
       " ' christchurch': 'NEW ZEALAND',\n",
       " ' ciego de avila': 'CARIBBEAN SEA',\n",
       " ' city': 'UNITED KINGDOM',\n",
       " ' ciudad real': 'SPAIN',\n",
       " ' cleveland': 'UNITED KINGDOM',\n",
       " ' co': 'USA',\n",
       " ' co. dublin': 'IRELAND',\n",
       " ' co. louth': 'IRELAND',\n",
       " ' co. wicklow': 'IRELAND',\n",
       " ' co.monaghan': 'IRELAND',\n",
       " ' co.wicklow': 'IRELAND',\n",
       " ' cochabamba': 'BOLIVIA',\n",
       " ' coimbra': 'PORTUGAL',\n",
       " ' colima': 'MEXICO',\n",
       " ' cologne': 'GERMANY',\n",
       " ' colorado': 'USA',\n",
       " ' como': 'ITALY',\n",
       " ' comunidad de madrid': 'SPAIN',\n",
       " ' comunidad valenciana': 'SPAIN',\n",
       " ' connaught': 'IRELAND',\n",
       " ' connecticut': 'USA',\n",
       " ' conwy': 'UNITED KINGDOM',\n",
       " ' copenhagen': 'DENMARK',\n",
       " ' cordoba': 'ARGENTINA',\n",
       " ' cork': 'IRELAND',\n",
       " ' cornwall': 'UNITED KINGDOM',\n",
       " ' county': 'IRELAND',\n",
       " ' county cork': 'IRELAND',\n",
       " ' county dublin': 'IRELAND',\n",
       " ' county tipperary': 'IRELAND',\n",
       " ' covilhã': 'PORTUGAL',\n",
       " ' crete': 'GREECE',\n",
       " ' cs': 'USA',\n",
       " ' cumbria': 'UNITED KINGDOM',\n",
       " ' cáceres': 'SPAIN',\n",
       " ' cádiz': 'SPAIN',\n",
       " ' córdoba': 'SPAIN',\n",
       " ' côte d`azur': 'FRANCE',\n",
       " ' d.f.': 'MEXICO',\n",
       " ' d.n.': 'DOMINICAN REPUBLIC',\n",
       " ' danang': 'VIETNAM',\n",
       " ' davao del norte': 'PHILIPPINES',\n",
       " ' davao del sur': 'PHILIPPINES',\n",
       " ' dc': 'USA',\n",
       " ' delaware': 'USA',\n",
       " ' delhi': 'INDIA',\n",
       " ' denmark': 'DENMARK',\n",
       " ' derbyshire': 'UNITED KINGDOM',\n",
       " ' deux-sèvres': 'FRANCE',\n",
       " ' devon': 'UNITED KINGDOM',\n",
       " ' df': 'BRAZIL',\n",
       " ' distrito federal': 'MEXICO',\n",
       " ' distrito nacional': 'DOMINICAN REPUBLIC',\n",
       " ' doha': 'QATAR',\n",
       " ' dolj': 'ROMANIA',\n",
       " ' don`t know': 'NEW ZEALAND',\n",
       " ' dr.': 'NETHERLANDS',\n",
       " ' drenthe': 'NETHERLANDS',\n",
       " ' dtto federal': 'VENEZUELA',\n",
       " ' dubai': 'UNITED ARAB EMIRATES',\n",
       " ' dublin': 'IRELAND',\n",
       " ' durham': 'UNITED KINGDOM',\n",
       " ' east anglia': 'UNITED KINGDOM',\n",
       " ' east sussex': 'UNITED KINGDOM',\n",
       " ' east yorkshire': 'UNITED KINGDOM',\n",
       " ' eastern province': 'SAUDI ARABIA',\n",
       " ' ehime-ken': 'JAPAN',\n",
       " ' eire': 'IRELAND',\n",
       " ' el bierzo': 'SPAIN',\n",
       " ' emilia romagna': 'ITALY',\n",
       " ' england': 'UNITED KINGDOM',\n",
       " ' ensenada': 'MEXICO',\n",
       " ' españa': 'SPAIN',\n",
       " ' espinho': 'PORTUGAL',\n",
       " ' essex': 'UNITED KINGDOM',\n",
       " ' essonne': 'FRANCE',\n",
       " ' estado de mexico': 'MEXICO',\n",
       " ' estado de méxico': 'MEXICO',\n",
       " ' estremadura': 'PORTUGAL',\n",
       " ' etela suomi': 'FINLAND',\n",
       " ' etelä-savo': 'FINLAND',\n",
       " ' etelä-suomen lääni': 'FINLAND',\n",
       " ' europe': 'GERMANY',\n",
       " ' euskadi': 'SPAIN',\n",
       " ' euskal herria': 'SPAIN',\n",
       " ' extremadura': 'SPAIN',\n",
       " ' famalicão': 'PORTUGAL',\n",
       " ' fars': 'IRAN',\n",
       " ' federal district': 'MEXICO',\n",
       " ' federal territory': 'MALAYSIA',\n",
       " ' federal territory of labuan': 'MALAYSIA',\n",
       " ' ferrara': 'ITALY',\n",
       " ' fife': 'UNITED KINGDOM',\n",
       " ' finistére': 'FRANCE',\n",
       " ' flevoland': 'NETHERLANDS',\n",
       " ' florida': 'USA',\n",
       " ' florida keys': 'USA',\n",
       " ' fort lauderdale': 'USA',\n",
       " ' france': 'FRANCE',\n",
       " ' franche comte': 'FRANCE',\n",
       " ' franche-comté': 'FRANCE',\n",
       " ' franconia': 'GERMANY',\n",
       " ' franken': 'GERMANY',\n",
       " ' fribourg': 'SWITZERLAND',\n",
       " ' friesland': 'NETHERLANDS',\n",
       " ' friuli venezia giulia': 'ITALY',\n",
       " ' fukui': 'JAPAN',\n",
       " ' fukuoka': 'JAPAN',\n",
       " ' fyn': 'DENMARK',\n",
       " ' fzmnuoi': 'TDZIMI',\n",
       " ' ga': 'USA',\n",
       " ' ga.': 'USA',\n",
       " ' galati': 'ROMANIA',\n",
       " ' galicia': 'SPAIN',\n",
       " ' galiza': 'SPAIN',\n",
       " ' galway': 'IRELAND',\n",
       " ' gamlebyen': 'NORWAY',\n",
       " ' gautang': 'SOUTH AFRICA',\n",
       " ' gauteng': 'SOUTH AFRICA',\n",
       " ' gauteng - south africa': 'SOUTH AFRICA',\n",
       " ' ge': 'SWITZERLAND',\n",
       " ' gelderland': 'NETHERLANDS',\n",
       " ' geneva': 'SWITZERLAND',\n",
       " ' genova-savona': 'ITALY',\n",
       " ' genève': 'SWITZERLAND',\n",
       " ' georgia': 'USA',\n",
       " ' germany': 'GERMANY',\n",
       " ' gifu': 'JAPAN',\n",
       " ' gipuzcoa': 'SPAIN',\n",
       " ' gipuzkoa': 'SPAIN',\n",
       " ' girona': 'SPAIN',\n",
       " ' giza governate': 'EGYPT',\n",
       " ' giza governerate': 'EGYPT',\n",
       " ' glasgow': 'UNITED KINGDOM',\n",
       " ' gloucestershire': 'UNITED KINGDOM',\n",
       " ' goiás': 'BRAZIL',\n",
       " ' golden bay': 'NEW ZEALAND',\n",
       " ' gotland': 'SWEDEN',\n",
       " ' grad zagreb': 'CROATIA',\n",
       " ' grampian': 'UNITED KINGDOM',\n",
       " ' granada': 'SPAIN',\n",
       " ' grand bahama': 'BAHAMAS',\n",
       " ' grand cayman': 'CAYMAN ISLANDS',\n",
       " ' granollers': 'SPAIN',\n",
       " ' greater london': 'UNITED KINGDOM',\n",
       " ' greater manchester': 'UNITED KINGDOM',\n",
       " ' groenekan': 'NETHERLANDS',\n",
       " ' groningen': 'NETHERLANDS',\n",
       " ' gtr manchester': 'UNITED KINGDOM',\n",
       " ' guam': 'USA',\n",
       " ' guangdong province': 'CHINA',\n",
       " ' guayas': 'ECUADOR',\n",
       " ' guipuzcoa': 'SPAIN',\n",
       " ' guipúzcoa': 'SPAIN',\n",
       " ' gunma': 'JAPAN',\n",
       " ' gwent': 'UNITED KINGDOM',\n",
       " ' haidian': 'CHINA',\n",
       " ' haifa': 'ISRAEL',\n",
       " ' hainault': 'BELGIUM',\n",
       " ' hainaut': 'BELGIUM',\n",
       " ' haineut': 'BELGIUM',\n",
       " ' halland': 'SWEDEN',\n",
       " ' hamburg': 'GERMANY',\n",
       " ' hampshire': 'UNITED KINGDOM',\n",
       " ' hants': 'UNITED KINGDOM',\n",
       " ' hasharon': 'ISRAEL',\n",
       " ' haut de seine': 'FRANCE',\n",
       " ' haute normandie': 'FRANCE',\n",
       " ' haute-garonne': 'FRANCE',\n",
       " ' haute-normandie': 'FRANCE',\n",
       " ' haute-savoie': 'FRANCE',\n",
       " ' haute-saône': 'FRANCE',\n",
       " ' haute-vienne': 'FRANCE',\n",
       " ' hauts de seine': 'FRANCE',\n",
       " ' hauts-de-seine': 'FRANCE',\n",
       " ' hawaii': 'USA',\n",
       " ' hawke`s bay': 'NEW ZEALAND',\n",
       " ' hawkes bay': 'NEW ZEALAND',\n",
       " ' hellerup': 'DENMARK',\n",
       " ' herault': 'FRANCE',\n",
       " ' heredia': 'COSTA RICA',\n",
       " ' herefordshire': 'UNITED KINGDOM',\n",
       " ' hertfordshire': 'UNITED KINGDOM',\n",
       " ' hesse': 'GERMANY',\n",
       " ' hessen': 'GERMANY',\n",
       " ' hk': 'CHINA',\n",
       " ' hokkaido': 'JAPAN',\n",
       " ' hong kong': 'HONG KONG',\n",
       " ' hong kong sar': 'HONG KONG',\n",
       " ' hordaland': 'NORWAY',\n",
       " ' huelva': 'SPAIN',\n",
       " ' huesca': 'SPAIN',\n",
       " ' hyogo': 'JAPAN',\n",
       " ' hérault': 'FRANCE',\n",
       " ' i sometimes live in hong kong': 'UNITED KINGDOM',\n",
       " ' ialoveni': 'MOLDOVA',\n",
       " ' iasi': 'ROMANIA',\n",
       " ' ibaraki': 'JAPAN',\n",
       " ' id': 'USA',\n",
       " ' idaho': 'USA',\n",
       " ' idf': 'FRANCE',\n",
       " ' il': 'USA',\n",
       " ' ile d`oleron': 'FRANCE',\n",
       " ' ile de france': 'FRANCE',\n",
       " ' ile-de-france': 'FRANCE',\n",
       " ' ille et vilaine': 'FRANCE',\n",
       " ' illes balears': 'SPAIN',\n",
       " ' illinois': 'USA',\n",
       " ' iloilo': 'PHILIPPINES',\n",
       " ' indiana': 'USA',\n",
       " ' indre et loire': 'FRANCE',\n",
       " ' iowa': 'USA',\n",
       " ' ireland': 'IRELAND',\n",
       " ' isere': 'FRANCE',\n",
       " ' islas baleares': 'SPAIN',\n",
       " ' islas canarias': 'SPAIN',\n",
       " ' isle of man': 'UNITED KINGDOM',\n",
       " ' isle of wight': 'UNITED KINGDOM',\n",
       " ' israel': 'ISRAEL',\n",
       " ' istanbul': 'TURKEY',\n",
       " ' isère': 'FRANCE',\n",
       " ' italy': 'ITALY',\n",
       " ' ithaca': 'USA',\n",
       " ' jaen-andalucia': 'SPAIN',\n",
       " ' jalisco': 'MEXICO',\n",
       " ' japan': 'JAPAN',\n",
       " ' jawa timur': 'INDONESIA',\n",
       " ' jaén': 'SPAIN',\n",
       " ' jersey': 'UNITED KINGDOM',\n",
       " ' jizni morava': 'CZECH REPUBLIC',\n",
       " ' johor': 'MALAYSIA',\n",
       " ' jylland': 'DENMARK',\n",
       " ' kaernten': 'AUSTRIA',\n",
       " ' kanagawa': 'JAPAN',\n",
       " ' kanagawa-ken': 'JAPAN',\n",
       " ' kansas': 'USA',\n",
       " ' kanto': 'JAPAN',\n",
       " ' kanton zurich': 'SWITZERLAND',\n",
       " ' kanton zürich': 'SWITZERLAND',\n",
       " ' kapiti coast': 'NEW ZEALAND',\n",
       " ' karelia': 'RUSSIA',\n",
       " ' karnataka': 'INDIA',\n",
       " ' kedah': 'MALAYSIA',\n",
       " ' kelantan': 'MALAYSIA',\n",
       " ' kent': 'UNITED KINGDOM',\n",
       " ' kentucky': 'USA',\n",
       " ' kerala': 'INDIA',\n",
       " ' keski-suomi': 'FINLAND',\n",
       " ' kildare': 'IRELAND',\n",
       " ' kings-heath ?': 'UNITED KINGDOM',\n",
       " ' kl': 'MALAYSIA',\n",
       " ' koceali': 'TURKEY',\n",
       " ' kogi state': 'NIGERIA',\n",
       " ' kosovo': 'YUGOSLAVIA',\n",
       " ' kowloon': 'HONG KONG',\n",
       " ' kras': 'SLOVENIA',\n",
       " ' kuala lumpur': 'MALAYSIA',\n",
       " ' kumamoto ken': 'JAPAN',\n",
       " ' kuwait': 'KUWAIT',\n",
       " ' kwazulu natal': 'SOUTH AFRICA',\n",
       " ' kwazulu-natal': 'SOUTH AFRICA',\n",
       " ' kyiv': 'UKRAINE',\n",
       " ' kymenlaakso': 'FINLAND',\n",
       " ' kyonggi': 'SOUTH KOREA',\n",
       " ' kyongsangnam-do': 'SOUTH KOREA',\n",
       " ' kyoto': 'JAPAN',\n",
       " ' kyoung sang buk do': 'SOUTH KOREA',\n",
       " ' kärnten': 'AUSTRIA',\n",
       " ' la coruña': 'SPAIN',\n",
       " ' la liguria': 'L`ITALIA',\n",
       " ' la rioja': 'SPAIN',\n",
       " ' lachish': 'ISRAEL',\n",
       " ' laguna': 'PHILIPPINES',\n",
       " ' lancashire': 'UNITED KINGDOM',\n",
       " ' lancaster': 'UNITED KINGDOM',\n",
       " ' lancs': 'UNITED KINGDOM',\n",
       " ' languedoc roussillon': 'FRANCE',\n",
       " ' las palmas': 'SPAIN',\n",
       " ' latina': 'ITALY',\n",
       " ' lausanne': 'SWITZERLAND',\n",
       " ' lazio': 'ITALY',\n",
       " ' lazio e sicilia': 'ITALY',\n",
       " ' leicestershire': 'UNITED KINGDOM',\n",
       " ' leinster': 'IRELAND',\n",
       " ' lenister': 'IRELAND',\n",
       " ' leon': 'SPAIN',\n",
       " ' lg': 'BELGIUM',\n",
       " ' liguria': 'ITALY',\n",
       " ' lima': 'PERU',\n",
       " ' limburg': 'NETHERLANDS',\n",
       " ' limpopo': 'SOUTH AFRICA',\n",
       " ' lincolnshire': 'UNITED KINGDOM',\n",
       " ' lisboa': 'PORTUGAL',\n",
       " ' lisbon': 'PORTUGAL',\n",
       " ' liège': 'BELGIUM',\n",
       " ' lleida': 'SPAIN',\n",
       " ' loire atlantique': 'FRANCE',\n",
       " ' loire-atlantique': 'FRANCE',\n",
       " ' loiret': 'FRANCE',\n",
       " ' lombardia': 'ITALY',\n",
       " ' lombardy': 'ITALY',\n",
       " ' london': 'UNITED KINGDOM',\n",
       " ' lorraine': 'FRANCE',\n",
       " ' lothian': 'UNITED KINGDOM',\n",
       " ' louisiana': 'USA',\n",
       " ' loures': 'PORTUGAL',\n",
       " ' louth': 'IRELAND',\n",
       " ' lower austria': 'AUSTRIA',\n",
       " ' luanda': 'ANGOLA',\n",
       " ' lucerne': 'SWITZERLAND',\n",
       " ' lugo': 'SPAIN',\n",
       " ' luxembourg': 'LUXEMBOURG',\n",
       " ' luxembourg ville': 'LUXEMBOURG',\n",
       " ' luxemburg': 'BELGIUM',\n",
       " ' luzern': 'SWITZERLAND',\n",
       " ' m-v': 'GERMANY',\n",
       " ' ma': 'USA',\n",
       " ' maadi': 'EGYPT',\n",
       " ' macedonia': 'MACEDONIA',\n",
       " ' madrid': 'SPAIN',\n",
       " ' maharashtra': 'INDIA',\n",
       " ' maine': 'USA',\n",
       " ' makati': 'PHILLIPINES',\n",
       " ' malaga': 'SPAIN',\n",
       " ' manawatu': 'NEW ZEALAND',\n",
       " ' manchester': 'UNITED KINGDOM',\n",
       " ' manila': 'PHILIPPINES',\n",
       " ' manitoba': 'CANADA',\n",
       " ' maputo': 'MOZAMBIQUE',\n",
       " ' maramures': 'ROMANIA',\n",
       " ' maraval': 'TRINIDAD AND TOBAGO',\n",
       " ' marche': 'ITALY',\n",
       " ' maritime alps': 'FRANCE',\n",
       " ' marlborough': 'NEW ZEALAND',\n",
       " ' marlbourgh': 'NEW ZEALAND',\n",
       " ' maryland': 'USA',\n",
       " ' massachusetts': 'USA',\n",
       " ' mazowiecka': 'POLAND',\n",
       " ' mazowieckie': 'POLAND',\n",
       " ' me': 'US',\n",
       " ' mecklenburg-vorpommern': 'GERMANY',\n",
       " ' medan hawalli': 'KUWAIT',\n",
       " ' melaka': 'MALAYSIA',\n",
       " ' melekeok': 'PALAU',\n",
       " ' merseyside': 'UNITED KINGDOM',\n",
       " ' metro manila': 'PHILIPPINES',\n",
       " ' metropolitana': 'CHILE',\n",
       " ' mexico': 'USA',\n",
       " ' mexico city': 'MEXICO',\n",
       " ' mi': 'ITALY',\n",
       " ' michigan': 'USA',\n",
       " ' michigan/new jersey': 'USA',\n",
       " ' middlesex': 'UNITED KINGDOM',\n",
       " ' middx': 'UNITED KINGDOM',\n",
       " ' midi-pyrenées': 'FRANCE',\n",
       " ' midi-pyrénées': 'FRANCE',\n",
       " ' midlands': 'UNITED KINGDOM',\n",
       " ' midlothian': 'UNITED KINGDOM',\n",
       " ' midwest': 'USA',\n",
       " ' milan': 'ITALY',\n",
       " ' milano': 'ITALY',\n",
       " ' mina al fahal': 'OMAN',\n",
       " ' minas gerais': 'BRAZIL',\n",
       " ' mindanao': 'PHILIPPINES',\n",
       " ' minett': 'LUXEMBOURG',\n",
       " ' minho': 'PORTUGAL',\n",
       " ' minnesota': 'USA',\n",
       " ' miraflores': 'PORTUGAL',\n",
       " ' mississippi': 'USA',\n",
       " ' mississippi39571': 'USA',\n",
       " ' missouri': 'USA',\n",
       " ' mitaka': 'JAPAN',\n",
       " ' mn': 'USA',\n",
       " ' modena': 'ITALY',\n",
       " ' montana': 'USA',\n",
       " ' montevdeo': 'URUGUA',\n",
       " ' montevideo': 'URUGUAY',\n",
       " ' morelos': 'MEXICO',\n",
       " ' moselle': 'FRANCE',\n",
       " ' mugla': 'TURKEY',\n",
       " ' munster': 'IRELAND',\n",
       " ' murcia': 'SPAIN',\n",
       " ' muswell hill': 'UNITED KINGDOM',\n",
       " ' my infinite mind': 'UNIVERSE',\n",
       " ' my own little world': 'USA',\n",
       " ' málaga': 'SPAIN',\n",
       " ' n /a': 'AUSTRIA',\n",
       " ' n carolina': 'USA',\n",
       " ' n-holland': 'NETHERLANDS',\n",
       " ' n.a': 'NEW ZEALAND',\n",
       " ' n.a.': 'IRELAND',\n",
       " ' n.p.': 'BAHAMAS',\n",
       " ' n.s.w': 'AUSTRALIA',\n",
       " ' n/a': 'UNITED KINGDOM',\n",
       " ' n/a paca': 'FRANCE',\n",
       " ' n/j': 'AUSTRIA',\n",
       " ' n/z': 'NEW ZEALAND',\n",
       " ' na': 'IRELAND',\n",
       " ' na/': 'SOUTH KOREA',\n",
       " ' nagano': 'JAPAN',\n",
       " ' nagano-ken': 'JAPAN',\n",
       " ' nairobi': 'KENYA',\n",
       " ' namur': 'BELGIUM',\n",
       " ' national capital region': 'PHILIPPINES',\n",
       " ' navarra': 'SPAIN',\n",
       " ' nayarit': 'MEXICO',\n",
       " ' nc': 'PENDER',\n",
       " ' ncr': 'PHILIPPINES',\n",
       " ' nebraska': 'USA',\n",
       " ' nejd': 'SAUDI ARABIA',\n",
       " ' neuchâtel': 'SWITZERLAND',\n",
       " ' nevada': 'USA',\n",
       " ' new  york': 'USA',\n",
       " ' new brunswick': 'CANADA',\n",
       " ' new delhi': 'INDIA',\n",
       " ' new hampshire': 'USA',\n",
       " ' new jersey': 'USA',\n",
       " ' new mexico': 'USA',\n",
       " ' new south wales': 'AUSTRALIA',\n",
       " ' new territories': 'HONG KONG',\n",
       " ' new york': 'USA',\n",
       " ' new zealand': 'NEW ZEALAND',\n",
       " ' newfoundland': 'CANADA',\n",
       " ' nh': 'NETHERLANDS',\n",
       " ' niagra falls': 'CANADA',\n",
       " ' niamey': 'NIGER',\n",
       " ' nidwalden': 'SWITZERLAND',\n",
       " ' niederoesterreich': 'AUSTRIA',\n",
       " ' niedersachsen': 'GERMANY',\n",
       " ' niederösterreich': 'AUSTRIA',\n",
       " ' nitriansky kraj': 'SLOVAKIA',\n",
       " ' nj': 'USA',\n",
       " ' nm': 'USA',\n",
       " ' none': 'PHILIPPINES',\n",
       " ' nonthaburi': 'THAILAND',\n",
       " ' noord': 'NETHERLANDS',\n",
       " ' noord brabant': 'NETHERLANDS',\n",
       " ' noord holland': 'NETHERLANDS',\n",
       " ' noord-brabant': 'NETHERLANDS',\n",
       " ' noord-holland': 'NETHERLANDS',\n",
       " ' nord': 'FRANCE',\n",
       " ' nord holland': 'NETHERLANDS',\n",
       " ' nord pas de calais': 'FRANCE',\n",
       " ' nord-pas-de-calais': 'FRANCE',\n",
       " ' nordrhein westfalen': 'GERMANY',\n",
       " ' nordrhein- westfalen': 'GERMANY',\n",
       " ' nordrhein-westfahlen': 'GERMANY',\n",
       " ' nordrhein-westfalen': 'GERMANY',\n",
       " ' nordrheinwestfalen': 'GERMANY',\n",
       " ' nordschweiz': 'SWITZERLAND',\n",
       " ' norfolk': 'UNITED KINGDOM',\n",
       " ' normandie': 'FRANCE',\n",
       " ' normandy': 'FRANCE',\n",
       " ' norrland': 'SWEDEN',\n",
       " ' north': 'SINGAPORE',\n",
       " ' north carolina': 'USA',\n",
       " ' north dakota': 'USA',\n",
       " ' north holland': 'NETHERLANDS',\n",
       " ' north island': 'NEW ZEALAND',\n",
       " ' north rhine-westphalia': 'GERMANY',\n",
       " ' north somerset': 'UNITED KINGDOM',\n",
       " ' north yorkshire': 'UNITED KINGDOM',\n",
       " ' northamptonshire': 'UNITED KINGDOM',\n",
       " ' northants': 'UNITED KINGDOM',\n",
       " ' northen england': 'UNITED KINGDOM',\n",
       " ' northern ireland': 'UNITED KINGDOM',\n",
       " ' northern marianas provinces': 'USA',\n",
       " ' northern territory': 'AUSTRALIA',\n",
       " ' northholland': 'NETHERLANDS',\n",
       " ' northland': 'NEW ZEALAND',\n",
       " ' northumberland': 'UNITED KINGDOM',\n",
       " ' northwest province': 'CAMEROON',\n",
       " ' northwest territories': 'CANADA',\n",
       " ' norway': 'NORWAY',\n",
       " ' not available': 'SLOVENIA',\n",
       " ' nottinghamshire': 'UNITED KINGDOM',\n",
       " ' notts': 'UNITED KINGDOM',\n",
       " ' nova scotia': 'CANADA',\n",
       " ' nrw': 'GERMANY',\n",
       " ' nsw': 'AUSTRALIA',\n",
       " ' nuevo leon': 'MEXICO',\n",
       " ' nunavut': 'CANADA',\n",
       " ' ny': 'USA',\n",
       " ' não há cá disso ^^': 'PORTUGAL',\n",
       " ' oaxaca': 'MEXICO',\n",
       " ' oberoesterreich': 'AUSTRIA',\n",
       " ' oberösterreich': 'AUSTRIA',\n",
       " ' oh': 'USA',\n",
       " ' ohio': 'USA',\n",
       " ' oise': 'FRANCE',\n",
       " ' ok': 'U.S. OF A.',\n",
       " ' okinawa': 'JAPAN',\n",
       " ' oklahoma': 'USA',\n",
       " ' ontario': 'CANADA',\n",
       " ' oost-vlaanderen': 'BELGIUM',\n",
       " ' or': 'USA',\n",
       " ' ordrup': 'DENMARK',\n",
       " ' oregon': 'USA',\n",
       " ' orense': 'ORENSE',\n",
       " ' osaka': 'JAPAN',\n",
       " ' oslo': 'NORWAY',\n",
       " ' ostschweiz': 'SWITZERLAND',\n",
       " ' otago': 'NEW ZEALAND',\n",
       " ' ourense': 'SPAIN',\n",
       " ' overijssel': 'NETHERLANDS',\n",
       " ' oxfordshire': 'UNITED KINGDOM',\n",
       " ' oxon': 'UNITED KINGDOM',\n",
       " ' paca': 'FRANCE',\n",
       " ' pais vasco': 'SPAIN',\n",
       " ' palmerston north': 'NEW ZEALAND',\n",
       " ' pampanga': 'PHILIPPINES',\n",
       " ' panama': 'PANAMA',\n",
       " ' parana': 'BRAZIL',\n",
       " ' paraná': 'BRAZIL',\n",
       " ' paraparaumu': 'NEW ZEALAND',\n",
       " ' paris': 'FRANCE',\n",
       " ' pas de calais': 'FRANCE',\n",
       " ' patrick henry village': 'GERMANY',\n",
       " ' pays de la loire': 'FRANCE',\n",
       " ' pays de loire': 'FRANCE',\n",
       " ' país valencià': 'SPAIN',\n",
       " ' país vasco': 'SPAIN',\n",
       " ' pella': 'USA',\n",
       " ' penang': 'MALAYSIA',\n",
       " ' pennsylvania': 'USA',\n",
       " ' perak': 'MALAYSIA',\n",
       " ' pernambuco': 'BRAZIL',\n",
       " ' perth': 'AUSTRALIA',\n",
       " ' pest megye': 'HUNGARY',\n",
       " ' petach tikvah': 'ISRAEL',\n",
       " ' picardie': 'FRANCE',\n",
       " ' pichincha': 'ECUADOR',\n",
       " ' piemonte': 'ITALY',\n",
       " ' pirkanmaa': 'FINLAND',\n",
       " ' pizarra': 'SPAIN',\n",
       " ' plaine wilhems': 'MAURITIUS',\n",
       " ' planet': 'FAR AWAY...',\n",
       " ' pohjanmaa': 'FINLAND',\n",
       " ' pohjois-pohjanmaa': 'FINLAND',\n",
       " ' pohjois-savo': 'FINLAND',\n",
       " ' poitou-charentes': 'FRANCE',\n",
       " ' pomorskie': 'POLAND',\n",
       " ' pontevedra': 'SPAIN',\n",
       " ' pontevedra(galicia)': 'SPAIN',\n",
       " ' porto': 'PORTUGAL',\n",
       " ' portugal': 'PORTUGAL',\n",
       " ' postfach': 'SWITZERLAND',\n",
       " ' prague': 'CZECH REPUBLIC',\n",
       " ' prahova': 'ROMANIA',\n",
       " ' preveza': 'GREECE',\n",
       " ' prince edward island': 'CANADA',\n",
       " ' private': 'CANADA',\n",
       " ' provence': 'FRANCE',\n",
       " ' provence alpes côte d`azur': 'FRANCE',\n",
       " ' puerto rico': 'USA',\n",
       " ' puglia': 'ITALY',\n",
       " ' pulau pinang': 'MALAYSIA',\n",
       " ' punjab': 'INDIA',\n",
       " ' puntareneas': 'COSTA RICA',\n",
       " ' pyrenees atlantiques': 'FRANCE',\n",
       " ' quebec': 'CANADA',\n",
       " ' queensland': 'AUSTRALIA',\n",
       " ' quinta región': 'CHILE',\n",
       " ' quit': 'QUIT',\n",
       " ' québec': 'CANADA',\n",
       " ' rangoon': 'BURMA',\n",
       " ' region metropolitana': 'CHILE',\n",
       " ' renfrewshire': 'SCOTLAND',\n",
       " ' republic of panama': 'REPUBLIC OF PANAMA',\n",
       " ' reykjavik': 'ICELAND',\n",
       " ' reykjavík': 'ICELAND',\n",
       " ' rhein-neckar': 'GERMANY',\n",
       " ' rheinland pfalz': 'GERMANY',\n",
       " ' rheinland-pfalz': 'GERMANY',\n",
       " ' rhode island': 'USA',\n",
       " ' rhone': 'FRANCE',\n",
       " ' rhone alpes': 'FRANCE',\n",
       " ' rhone-alpes': 'FRANCE',\n",
       " ' rhône': 'FRANCE',\n",
       " ' rhône alpes': 'FRANCE',\n",
       " ' rhône-alpes': 'FRANCE',\n",
       " ' ribatejo': 'PORTUGAL',\n",
       " ' rift valley': 'KENYA',\n",
       " ' rigas rajons': 'LATVIA',\n",
       " ' rio de janeiro': 'BRAZIL',\n",
       " ' rio grande do sul': 'BRAZIL',\n",
       " ' riviera': 'FRANCE',\n",
       " ' rizal': 'PHILIPPINES',\n",
       " ' rj': 'BRAZIL',\n",
       " ' rm': 'CHILE',\n",
       " ' rodney district': 'NEW ZEALAND',\n",
       " ' roma': 'ITALY',\n",
       " ' romania/europe': 'ROMANIA',\n",
       " ' rome': 'ITALY',\n",
       " ' rotterdam': 'NETHERLANDS',\n",
       " ' région bilingue de bruxelles-capitale': 'BELGIUM',\n",
       " ' région parisienne': 'FRANCE',\n",
       " ' s yorkshire': 'UNITED KINGDOM',\n",
       " ' s. carolina': 'USA',\n",
       " ' s.k.': 'SOUTH KOREA',\n",
       " ' saarland': 'GERMANY',\n",
       " ' sabah': 'MALAYSIA',\n",
       " ' sachsen': 'GERMANY',\n",
       " ' sachsen-anhalt': 'GERMANY',\n",
       " ' salamanca': 'SPAIN',\n",
       " ' sallins': 'IRELAND',\n",
       " ' salzburg': 'AUSTRIA',\n",
       " ' salzkammergut': 'AUSTRIA',\n",
       " ' samos': 'GREECE',\n",
       " ' san jose': 'COSTA RICA',\n",
       " ' san josé': 'COSTA RICA',\n",
       " ' sandweiler': 'LUXEMBOURG',\n",
       " ' santa cruz de tenerife': 'SPAIN',\n",
       " ' santarém': 'PORTUGAL',\n",
       " ' sao paulo': 'BRAZIL',\n",
       " ' sar': 'CHINA',\n",
       " ' sarawak': 'MALAYSIA',\n",
       " ' sardegna': 'ITALY',\n",
       " ' sarthe': 'FRANCE',\n",
       " ' saskatchewan': 'CANADA',\n",
       " ' satakunta': 'FINLAND',\n",
       " ' savoie': 'FRANCE',\n",
       " ' scania': 'SWEDEN',\n",
       " ' schaffhausen': 'SWITZERLAND',\n",
       " ' schleswig holstein': 'GERMANY',\n",
       " ' schleswig-holstein': 'GERMANY',\n",
       " ' schleswig-holstein / norddeutschland': 'GERMANY',\n",
       " ' schwaben': 'GERMANY',\n",
       " ' scotland': 'UNITED KINGDOM',\n",
       " ' se': 'SWEDEN',\n",
       " ' sealand': 'DENMARK',\n",
       " ' seine (paris)': 'FRANCE',\n",
       " ' seine saint-denis': 'FRANCE',\n",
       " ' seixal': 'PORTUGAL',\n",
       " ' selangor': 'MALAYSIA',\n",
       " ' selangor darul ehsan': 'MALAYSIA',\n",
       " ' seoul': 'SOUTH KOREA',\n",
       " ' serbia': 'YUGOSLAVIA',\n",
       " ' setúbal': 'PORTUGAL',\n",
       " ' seven mile beach': 'CAYMAN ISLANDS',\n",
       " ' sevilla': 'SPAIN',\n",
       " ' sg': 'SINGAPORE',\n",
       " ' shanghai': 'CHINA',\n",
       " ' sharjah': 'UNITED ARAB EMIRATES',\n",
       " ' sharon': 'ISRAEL',\n",
       " ' shiga': 'JAPAN',\n",
       " ' shropshire': 'UNITED KINGDOM',\n",
       " ' sichuan': 'CHINA',\n",
       " ' sicilia': 'ITALY',\n",
       " ' silesia': 'POLAND',\n",
       " ' sinaloa': 'MEXICO',\n",
       " ' singapore': 'SINGAPORE',\n",
       " ' sintra': 'PORTUGAL',\n",
       " ' sitges': 'SPAIN',\n",
       " ' sjælland': 'DENMARK',\n",
       " ' skane': 'SWEDEN',\n",
       " ' skåne': 'SWEDEN',\n",
       " ' slidre': 'NORWAY',\n",
       " ' slovenia': 'SLOVENIA',\n",
       " ' smith`s': 'BERMUDA',\n",
       " ' sofia': 'BULGARIA',\n",
       " ' solothurn': 'SWITZERLAND',\n",
       " ' somerset': 'UNITED KINGDOM',\n",
       " ' somewhere in the desert': 'KUWAIT',\n",
       " ' soria': 'SPAIN',\n",
       " ' soure': 'PORTUGAL',\n",
       " ' south australia': 'AUSTRALIA',\n",
       " ' south canterbury': 'NEW ZEALAND',\n",
       " ' south carolina': 'USA',\n",
       " ' south dakota': 'USA',\n",
       " ' south glos.': 'UNITED KINGDOM',\n",
       " ' south gyeongsang': 'SOUTH KOREA',\n",
       " ' south island': 'NEW ZEALAND',\n",
       " ' south korea': 'SOUTH KOREA',\n",
       " ' south waikato': 'NEW ZEALAND',\n",
       " ' south yorkshire': 'UNITED KINGDOM',\n",
       " ' south youkshire': 'UNITED KINGDOM',\n",
       " ' southampton': 'BERMUDA',\n",
       " ' southeast asia': 'MALAYSIA',\n",
       " ' southland': 'NEW ZEALAND',\n",
       " ' sp': 'BRAZIL',\n",
       " ' spain': 'SPAIN',\n",
       " ' sputh wales': 'UNITED KINGDOM',\n",
       " ' st. gallen': 'SWITZERLAND',\n",
       " ' st. thomas': 'BARBADOS',\n",
       " ' st.gallen': 'SWITZERLAND',\n",
       " ' staffordshire': 'UNITED KINGDOM',\n",
       " ' stajerska': 'SLOVENIA',\n",
       " ' state of continuing flux': 'USA',\n",
       " ' steiermark': 'AUSTRIA',\n",
       " ' stockholm': 'SWEDEN',\n",
       " ' stockholm stad': 'SWEDEN',\n",
       " ' strathclyde': 'SCOTLAND',\n",
       " ' su': 'INDONESIA',\n",
       " ' subang jaya': 'MALAYSIA',\n",
       " ' suebia': 'GERMANY',\n",
       " ' suffolk': 'UNITED KINGDOM',\n",
       " ' suisse romande': 'SWITZERLAND',\n",
       " ' sumatera utara': 'INDONESIA',\n",
       " ' surrey': 'UNITED KINGDOM',\n",
       " ' sussex': 'UNITED KINGDOM',\n",
       " ' sutherland': 'UNITED KINGDOM',\n",
       " ' sweden': 'SWEDEN',\n",
       " ' são paulo': 'BRAZIL',\n",
       " ' sør-trøndelag': 'NORWAY',\n",
       " ' taipei': 'TAIWAN',\n",
       " ' taiwan': 'TAIWAN',\n",
       " ' takaka': 'NEW ZEALAND',\n",
       " ' tamaulipas': 'MEXICO',\n",
       " ' tamil nadu': 'INDIA',\n",
       " ' tamilnadu': 'INDIA',\n",
       " ' taranaki': 'NEW ZEALAND',\n",
       " ' tarragona': 'SPAIN',\n",
       " ' tasmania': 'AUSTRALIA',\n",
       " ' tayside': 'UNITED KINGDOM',\n",
       " ' teesside': 'UNITED KINGDOM',\n",
       " ' tehran': 'IRAN',\n",
       " ' tejas': 'USA',\n",
       " ' tel-aviv': 'ISRAEL',\n",
       " ' tenerife': 'SPAIN',\n",
       " ' tennessee': 'USA',\n",
       " ' texas': 'USA',\n",
       " ' texel': 'NETHERLANDS',\n",
       " ' the basque country': 'SPAIN',\n",
       " ' the netherlands': 'NETHERLANDS',\n",
       " ' thueringen': 'GERMANY',\n",
       " ' thurgau': 'SWITZERLAND',\n",
       " ' thüringen': 'GERMANY',\n",
       " ' ticino': 'SWITZERLAND',\n",
       " ' tirol': 'AUSTRIA',\n",
       " ' tn': 'RUTHERFORD',\n",
       " ' toamasina': 'MADAGASCAR',\n",
       " ' toapayoh': 'SINGAPORE',\n",
       " ' tochigi': 'JAPAN',\n",
       " ' tokyo': 'JAPAN',\n",
       " ' tokyo ku': 'JAPAN',\n",
       " ' tokyo-to': 'JAPAN',\n",
       " ' toscana': 'ITALY',\n",
       " ' tottori': 'JAPAN',\n",
       " ' traveling nurse do 3 months at a time all over us': 'USA',\n",
       " ' travelling': 'CANADA',\n",
       " ' trentino alto adige': 'ITALY',\n",
       " ' treviso': 'ITALY',\n",
       " ' troms': 'NORWAY',\n",
       " ' trondheim': 'NORWAY',\n",
       " ' trás-os-montes': 'PORTUGAL',\n",
       " ' tunis': 'TUNISIA',\n",
       " ' tuscany - chiantishire': 'ITALY',\n",
       " ' tx': 'USA',\n",
       " ' tyne & wear': 'UNITED KINGDOM',\n",
       " ' tyne and wear': 'UNITED KINGDOM',\n",
       " ' uk': 'UNITED KINGDOM',\n",
       " ' umbria': 'ITALY',\n",
       " ' united kingdom': 'UNITED KINGDOM',\n",
       " ' united states virgin islands': 'USA',\n",
       " ' unknown': 'GERMANY',\n",
       " ' upper austria': 'AUSTRIA',\n",
       " ' upperaustria': 'AUSTRIA',\n",
       " ' uppland': 'SWEDEN',\n",
       " ' usa': 'USA',\n",
       " ' utah': 'USA',\n",
       " ' utrecht': 'NETHERLANDS',\n",
       " ' uusimaa': 'FINLAND',\n",
       " ' va': 'USA',\n",
       " ' val d`oise': 'FRANCE',\n",
       " ' val de marne': 'FRANCE',\n",
       " ' valcea': 'ROMANIA',\n",
       " ' valencia': 'SPAIN',\n",
       " ' valladolid': 'SPAIN',\n",
       " ' valle d`aosta': 'USA',\n",
       " ' valletta': 'MALTA',\n",
       " ' valència': 'SPAIN',\n",
       " ' varsinais-suomi': 'FINLAND',\n",
       " ' vaslui': 'ROMANIA',\n",
       " ' vaucluse': 'FRANCE',\n",
       " ' vaud': 'SWITZERLAND',\n",
       " ' venecia': 'ITALY',\n",
       " ' veneto': 'ITALY',\n",
       " ' vermont': 'USA',\n",
       " ' vest-agder': 'NORWAY',\n",
       " ...}"
      ]
     },
     "execution_count": 13,
     "metadata": {},
     "output_type": "execute_result"
    }
   ],
   "source": [
    "# Select the country with the highest frequency for each state from the frequency data.\n",
    "state_to_country = {}\n",
    "for state, country_freq in country_counts.groupby(level=0):\n",
    "    # country_freq.idxmax()[1] gets the name of the country with the highest frequency\n",
    "    state_to_country[state] = country_freq.idxmax()[1]\n",
    "state_to_country"
   ]
  },
  {
   "cell_type": "markdown",
   "metadata": {},
   "source": [
    "#### 2.1.2.2.2. Fill in missing Country values based on mapping"
   ]
  },
  {
   "cell_type": "markdown",
   "metadata": {},
   "source": [
    "**1️⃣**Iterate through each row of User, and when you encounter a user with a missing Country, try to fill it in with the mapping"
   ]
  },
  {
   "cell_type": "code",
   "execution_count": 14,
   "metadata": {},
   "outputs": [
    {
     "data": {
      "text/plain": [
       "User-ID             0\n",
       "User-State          0\n",
       "User-Country        2\n",
       "User-Age        18952\n",
       "dtype: int64"
      ]
     },
     "metadata": {},
     "output_type": "display_data"
    }
   ],
   "source": [
    "# Fill in missing country information using mapping.\n",
    "for index, row in users.iterrows():\n",
    "    if pd.isna(row['User-Country']) and pd.notna(row['User-State']):\n",
    "        if row['User-State'] in state_to_country:\n",
    "            users.at[index, 'User-Country'] = state_to_country[row['User-State']]\n",
    "# Display the updated user data to check the results.\n",
    "display(users.isna().sum())\n"
   ]
  },
  {
   "cell_type": "markdown",
   "metadata": {},
   "source": [
    "**2️⃣**For users whose User-Country is still missing, set their Country value to 404 Country"
   ]
  },
  {
   "cell_type": "code",
   "execution_count": 15,
   "metadata": {},
   "outputs": [
    {
     "name": "stdout",
     "output_type": "stream",
     "text": [
      "User-ID             0\n",
      "User-State          0\n",
      "User-Country        0\n",
      "User-Age        18952\n",
      "dtype: int64\n"
     ]
    },
    {
     "name": "stderr",
     "output_type": "stream",
     "text": [
      "C:\\Users\\Administrator\\AppData\\Local\\Temp\\ipykernel_44252\\3591556885.py:2: FutureWarning: A value is trying to be set on a copy of a DataFrame or Series through chained assignment using an inplace method.\n",
      "The behavior will change in pandas 3.0. This inplace method will never work because the intermediate object on which we are setting values always behaves as a copy.\n",
      "\n",
      "For example, when doing 'df[col].method(value, inplace=True)', try using 'df.method({col: value}, inplace=True)' or df[col] = df[col].method(value) instead, to perform the operation inplace on the original object.\n",
      "\n",
      "\n",
      "  users[\"User-Country\"].fillna(\"404 Country\", inplace=True)\n"
     ]
    }
   ],
   "source": [
    "# Replace NaN with \"404 Country\" first.\n",
    "users[\"User-Country\"].fillna(\"404 Country\", inplace=True)\n",
    "print(users.isna().sum())"
   ]
  },
  {
   "cell_type": "markdown",
   "metadata": {},
   "source": [
    "### 2.1.3. Preprocssing User-States\n",
    "\n"
   ]
  },
  {
   "cell_type": "markdown",
   "metadata": {},
   "source": [
    "<img src=\"https://s2.loli.net/2024/05/03/tCj9XIx5BrwhYKn.png\" alt=\"image-20240503083905783\" style=\"zoom: 50%;\" />"
   ]
  },
  {
   "cell_type": "markdown",
   "metadata": {},
   "source": [
    "#### 2.1.3.1. Cleaning of User-State non-missing values"
   ]
  },
  {
   "cell_type": "code",
   "execution_count": 16,
   "metadata": {},
   "outputs": [],
   "source": [
    "users[\"User-State\"] = users[\"User-State\"].str.replace('\"', ' ').str.strip().str.lower().replace(' ', pd.NA)"
   ]
  },
  {
   "cell_type": "markdown",
   "metadata": {},
   "source": [
    "#### 2.1.3.2. Calculate the percentage of users in each state / country\n",
    "\n",
    "**1️⃣**We refer to states with more than 0.5% of users as valid states\n",
    "\n",
    "**2️⃣**Eventually, the `valid_states_per_country` dictionary will contain a list of each country and its valid states"
   ]
  },
  {
   "cell_type": "code",
   "execution_count": 17,
   "metadata": {},
   "outputs": [
    {
     "name": "stdout",
     "output_type": "stream",
     "text": [
      "CANADA:\n",
      "  ontario: 3.74%\n",
      "  british columbia: 2.54%\n",
      "  alberta: 1.30%\n",
      "USA:\n",
      "  california: 10.61%\n",
      "  texas: 4.14%\n",
      "  new york: 3.67%\n",
      "  florida: 3.41%\n",
      "  washington: 3.28%\n",
      "  illinois: 3.05%\n",
      "  pennsylvania: 2.96%\n",
      "  oregon: 2.45%\n",
      "  virginia: 2.32%\n",
      "  michigan: 2.26%\n",
      "  ohio: 2.22%\n",
      "  massachusetts: 2.11%\n",
      "  missouri: 2.10%\n",
      "  north carolina: 1.85%\n",
      "  new jersey: 1.72%\n",
      "  minnesota: 1.66%\n",
      "  georgia: 1.55%\n",
      "  colorado: 1.42%\n",
      "  maryland: 1.31%\n",
      "  wisconsin: 1.25%\n",
      "  : 1.23%\n",
      "  arizona: 1.23%\n",
      "  indiana: 1.01%\n",
      "  tennessee: 0.98%\n",
      "  connecticut: 0.86%\n",
      "  louisiana: 0.86%\n",
      "  south carolina: 0.82%\n",
      "  kentucky: 0.76%\n",
      "  alabama: 0.76%\n",
      "  new mexico: 0.69%\n",
      "  iowa: 0.67%\n",
      "  kansas: 0.60%\n",
      "  new hampshire: 0.54%\n",
      "  oklahoma: 0.52%\n",
      "  maine: 0.51%\n",
      "UNITED KINGDOM:\n",
      "  england: 2.24%\n",
      "GERMANY:\n",
      "  nordrhein-westfalen: 0.90%\n",
      "  bayern: 0.56%\n",
      "AUSTRALIA:\n",
      "  new south wales: 0.63%\n",
      "  victoria: 0.59%\n"
     ]
    }
   ],
   "source": [
    "# Calculate the total number of users.\n",
    "total_users = len(users)\n",
    "# Initialize a dictionary to store valid state information and their proportions for each country.\n",
    "valid_states_per_country = {}\n",
    "# Iterate over each country to calculate the proportion of users in each state.\n",
    "for country in users['User-Country'].unique():\n",
    "    country_users = users[users['User-Country'] == country]\n",
    "    state_counts = country_users['User-State'].value_counts()\n",
    "    state_ratios = (state_counts / total_users * 100)\n",
    "    valid_states = state_ratios[state_ratios > 0.5]\n",
    "    # Store the state and their proportions in a dictionary for the country\n",
    "    valid_states_per_country[country] = valid_states.to_dict()\n",
    "\n",
    "# valid states of each country\n",
    "for country, states_info in valid_states_per_country.items():\n",
    "    if states_info:  # Check if there are valid states for the country\n",
    "        print(f\"{country}:\")\n",
    "        for state, proportion in states_info.items():\n",
    "            print(f\"  {state}: {proportion:.2f}%\")"
   ]
  },
  {
   "cell_type": "markdown",
   "metadata": {},
   "source": [
    "#### 2.1.3.3. Generate User-Location columns based on the logic of the flowchart"
   ]
  },
  {
   "cell_type": "code",
   "execution_count": 18,
   "metadata": {},
   "outputs": [
    {
     "data": {
      "text/html": [
       "<div>\n",
       "<style scoped>\n",
       "    .dataframe tbody tr th:only-of-type {\n",
       "        vertical-align: middle;\n",
       "    }\n",
       "\n",
       "    .dataframe tbody tr th {\n",
       "        vertical-align: top;\n",
       "    }\n",
       "\n",
       "    .dataframe thead th {\n",
       "        text-align: right;\n",
       "    }\n",
       "</style>\n",
       "<table border=\"1\" class=\"dataframe\">\n",
       "  <thead>\n",
       "    <tr style=\"text-align: right;\">\n",
       "      <th></th>\n",
       "      <th>User-Country</th>\n",
       "      <th>User-State</th>\n",
       "      <th>User-Location</th>\n",
       "    </tr>\n",
       "  </thead>\n",
       "  <tbody>\n",
       "    <tr>\n",
       "      <th>41156</th>\n",
       "      <td>JAPAN</td>\n",
       "      <td>hokkaido</td>\n",
       "      <td>JAPAN(entire)</td>\n",
       "    </tr>\n",
       "    <tr>\n",
       "      <th>1264</th>\n",
       "      <td>USA</td>\n",
       "      <td>traveling nurse do 3 months at a time all over us</td>\n",
       "      <td>USA(others)</td>\n",
       "    </tr>\n",
       "    <tr>\n",
       "      <th>18638</th>\n",
       "      <td>CANADA</td>\n",
       "      <td>alberta</td>\n",
       "      <td>CANADA(alberta)</td>\n",
       "    </tr>\n",
       "    <tr>\n",
       "      <th>45982</th>\n",
       "      <td>USA</td>\n",
       "      <td>arizona</td>\n",
       "      <td>USA(arizona)</td>\n",
       "    </tr>\n",
       "    <tr>\n",
       "      <th>25637</th>\n",
       "      <td>USA</td>\n",
       "      <td>michigan</td>\n",
       "      <td>USA(michigan)</td>\n",
       "    </tr>\n",
       "    <tr>\n",
       "      <th>28733</th>\n",
       "      <td>USA</td>\n",
       "      <td>illinois</td>\n",
       "      <td>USA(illinois)</td>\n",
       "    </tr>\n",
       "    <tr>\n",
       "      <th>25727</th>\n",
       "      <td>USA</td>\n",
       "      <td>oregon</td>\n",
       "      <td>USA(oregon)</td>\n",
       "    </tr>\n",
       "    <tr>\n",
       "      <th>43058</th>\n",
       "      <td>USA</td>\n",
       "      <td>michigan</td>\n",
       "      <td>USA(michigan)</td>\n",
       "    </tr>\n",
       "    <tr>\n",
       "      <th>34208</th>\n",
       "      <td>USA</td>\n",
       "      <td>minnesota</td>\n",
       "      <td>USA(minnesota)</td>\n",
       "    </tr>\n",
       "    <tr>\n",
       "      <th>5760</th>\n",
       "      <td>USA</td>\n",
       "      <td>california</td>\n",
       "      <td>USA(california)</td>\n",
       "    </tr>\n",
       "  </tbody>\n",
       "</table>\n",
       "</div>"
      ],
      "text/plain": [
       "      User-Country                                         User-State  \\\n",
       "41156        JAPAN                                           hokkaido   \n",
       "1264           USA  traveling nurse do 3 months at a time all over us   \n",
       "18638       CANADA                                            alberta   \n",
       "45982          USA                                            arizona   \n",
       "25637          USA                                           michigan   \n",
       "28733          USA                                           illinois   \n",
       "25727          USA                                             oregon   \n",
       "43058          USA                                           michigan   \n",
       "34208          USA                                          minnesota   \n",
       "5760           USA                                         california   \n",
       "\n",
       "         User-Location  \n",
       "41156    JAPAN(entire)  \n",
       "1264       USA(others)  \n",
       "18638  CANADA(alberta)  \n",
       "45982     USA(arizona)  \n",
       "25637    USA(michigan)  \n",
       "28733    USA(illinois)  \n",
       "25727      USA(oregon)  \n",
       "43058    USA(michigan)  \n",
       "34208   USA(minnesota)  \n",
       "5760   USA(california)  "
      ]
     },
     "metadata": {},
     "output_type": "display_data"
    }
   ],
   "source": [
    "# Define a function to determine the location based on country and state\n",
    "def determine_location(row):\n",
    "    country = row['User-Country']\n",
    "    state = row['User-State']\n",
    "    valid_states = valid_states_per_country.get(country, [])  # Get valid states for the country or an empty list if none\n",
    "    if len(valid_states) == 0:\n",
    "        return f\"{country}(entire)\"  # If no state exceeds 0.5%, return the country name indicating entire country\n",
    "    elif state and state in valid_states:\n",
    "        return f\"{country}({state})\"  # If the state is in the list of valid states, return country(state)\n",
    "    else:\n",
    "        return f\"{country}(others)\"  # For other cases, mark as others within the country\n",
    "# Apply the function to each row in the DataFrame and create a new column\n",
    "users['User-Location'] = users.apply(determine_location, axis=1)\n",
    "# Display the first 10 rows of the DataFrame to check the new 'User-Location' column\n",
    "display(users[['User-Country', 'User-State', 'User-Location']].sample(10))"
   ]
  },
  {
   "cell_type": "markdown",
   "metadata": {},
   "source": [
    "#### 2.1.3.4. Select the top 100 User-Locations."
   ]
  },
  {
   "cell_type": "markdown",
   "metadata": {},
   "source": [
    "**1️⃣**With this approach, we can get 231 location"
   ]
  },
  {
   "cell_type": "code",
   "execution_count": 19,
   "metadata": {},
   "outputs": [
    {
     "data": {
      "text/plain": [
       "231"
      ]
     },
     "execution_count": 19,
     "metadata": {},
     "output_type": "execute_result"
    }
   ],
   "source": [
    "len(set(users[\"User-Location\"]))"
   ]
  },
  {
   "cell_type": "markdown",
   "metadata": {},
   "source": [
    "**2️⃣**If we pick only the top 100 of these Locations, we will cover 99.62% of users"
   ]
  },
  {
   "cell_type": "code",
   "execution_count": 20,
   "metadata": {},
   "outputs": [
    {
     "data": {
      "text/plain": [
       "99.61903973167146"
      ]
     },
     "execution_count": 20,
     "metadata": {},
     "output_type": "execute_result"
    }
   ],
   "source": [
    "# Calculate the count for each location\n",
    "location_counts = users['User-Location'].value_counts()\n",
    "# Get the total count sum for the top 200 most common locations\n",
    "top_200_sum = location_counts.head(100).sum()\n",
    "# Calculate the total number of users\n",
    "total_users = len(users)\n",
    "# Calculate the percentage of the top 200 locations out of total users\n",
    "top_200_sum / total_users * 100"
   ]
  },
  {
   "cell_type": "markdown",
   "metadata": {},
   "source": [
    "**3️⃣**Identify the top 100 Locations and delete the other rows. Also delete unused columns"
   ]
  },
  {
   "cell_type": "code",
   "execution_count": 21,
   "metadata": {},
   "outputs": [
    {
     "data": {
      "text/html": [
       "<div>\n",
       "<style scoped>\n",
       "    .dataframe tbody tr th:only-of-type {\n",
       "        vertical-align: middle;\n",
       "    }\n",
       "\n",
       "    .dataframe tbody tr th {\n",
       "        vertical-align: top;\n",
       "    }\n",
       "\n",
       "    .dataframe thead th {\n",
       "        text-align: right;\n",
       "    }\n",
       "</style>\n",
       "<table border=\"1\" class=\"dataframe\">\n",
       "  <thead>\n",
       "    <tr style=\"text-align: right;\">\n",
       "      <th></th>\n",
       "      <th>User-ID</th>\n",
       "      <th>User-Age</th>\n",
       "      <th>User-Location</th>\n",
       "    </tr>\n",
       "  </thead>\n",
       "  <tbody>\n",
       "    <tr>\n",
       "      <th>0</th>\n",
       "      <td>8</td>\n",
       "      <td>NaN</td>\n",
       "      <td>CANADA(ontario)</td>\n",
       "    </tr>\n",
       "    <tr>\n",
       "      <th>1</th>\n",
       "      <td>9</td>\n",
       "      <td>NaN</td>\n",
       "      <td>USA(tennessee)</td>\n",
       "    </tr>\n",
       "    <tr>\n",
       "      <th>2</th>\n",
       "      <td>16</td>\n",
       "      <td>NaN</td>\n",
       "      <td>USA(new mexico)</td>\n",
       "    </tr>\n",
       "    <tr>\n",
       "      <th>3</th>\n",
       "      <td>17</td>\n",
       "      <td>NaN</td>\n",
       "      <td>USA(virginia)</td>\n",
       "    </tr>\n",
       "    <tr>\n",
       "      <th>4</th>\n",
       "      <td>19</td>\n",
       "      <td>14\"</td>\n",
       "      <td>USA(others)</td>\n",
       "    </tr>\n",
       "  </tbody>\n",
       "</table>\n",
       "</div>"
      ],
      "text/plain": [
       "   User-ID User-Age    User-Location\n",
       "0        8      NaN  CANADA(ontario)\n",
       "1        9      NaN   USA(tennessee)\n",
       "2       16      NaN  USA(new mexico)\n",
       "3       17      NaN    USA(virginia)\n",
       "4       19      14\"      USA(others)"
      ]
     },
     "execution_count": 21,
     "metadata": {},
     "output_type": "execute_result"
    }
   ],
   "source": [
    "# Calculate the count for each location and get the top 100 most common locations\n",
    "top_100_locations = users['User-Location'].value_counts().head(100).index\n",
    "# Filter the DataFrame to keep only rows with the top 100 locations\n",
    "users = users[users['User-Location'].isin(top_100_locations)]\n",
    "# Drop the 'User-Country' and 'User-State' columns\n",
    "users = users.drop(columns=['User-Country', 'User-State'])\n",
    "# Display the results to confirm the operation\n",
    "users.head()"
   ]
  },
  {
   "cell_type": "markdown",
   "metadata": {},
   "source": [
    "### 2.1.4. Encoding: Converting the Location text into numerical values"
   ]
  },
  {
   "cell_type": "code",
   "execution_count": 22,
   "metadata": {},
   "outputs": [
    {
     "data": {
      "text/html": [
       "<div>\n",
       "<style scoped>\n",
       "    .dataframe tbody tr th:only-of-type {\n",
       "        vertical-align: middle;\n",
       "    }\n",
       "\n",
       "    .dataframe tbody tr th {\n",
       "        vertical-align: top;\n",
       "    }\n",
       "\n",
       "    .dataframe thead th {\n",
       "        text-align: right;\n",
       "    }\n",
       "</style>\n",
       "<table border=\"1\" class=\"dataframe\">\n",
       "  <thead>\n",
       "    <tr style=\"text-align: right;\">\n",
       "      <th></th>\n",
       "      <th>User-ID</th>\n",
       "      <th>User-Age</th>\n",
       "      <th>User-Location</th>\n",
       "      <th>User-Location-Encoded</th>\n",
       "    </tr>\n",
       "  </thead>\n",
       "  <tbody>\n",
       "    <tr>\n",
       "      <th>12263</th>\n",
       "      <td>70318</td>\n",
       "      <td>31</td>\n",
       "      <td>USA(new jersey)</td>\n",
       "      <td>84.0</td>\n",
       "    </tr>\n",
       "    <tr>\n",
       "      <th>41395</th>\n",
       "      <td>239296</td>\n",
       "      <td>NaN</td>\n",
       "      <td>USA(california)</td>\n",
       "      <td>66.0</td>\n",
       "    </tr>\n",
       "    <tr>\n",
       "      <th>3578</th>\n",
       "      <td>21875</td>\n",
       "      <td>43</td>\n",
       "      <td>USA(florida)</td>\n",
       "      <td>69.0</td>\n",
       "    </tr>\n",
       "    <tr>\n",
       "      <th>597</th>\n",
       "      <td>3472</td>\n",
       "      <td>24</td>\n",
       "      <td>USA(washington)</td>\n",
       "      <td>97.0</td>\n",
       "    </tr>\n",
       "    <tr>\n",
       "      <th>33163</th>\n",
       "      <td>191991</td>\n",
       "      <td>28</td>\n",
       "      <td>USA(florida)</td>\n",
       "      <td>69.0</td>\n",
       "    </tr>\n",
       "    <tr>\n",
       "      <th>345</th>\n",
       "      <td>2033</td>\n",
       "      <td>27</td>\n",
       "      <td>USA(others)</td>\n",
       "      <td>91.0</td>\n",
       "    </tr>\n",
       "    <tr>\n",
       "      <th>11242</th>\n",
       "      <td>64503</td>\n",
       "      <td>NaN</td>\n",
       "      <td>USA(others)</td>\n",
       "      <td>91.0</td>\n",
       "    </tr>\n",
       "    <tr>\n",
       "      <th>24208</th>\n",
       "      <td>139228</td>\n",
       "      <td>NaN</td>\n",
       "      <td>USA(oregon)</td>\n",
       "      <td>90.0</td>\n",
       "    </tr>\n",
       "    <tr>\n",
       "      <th>9068</th>\n",
       "      <td>52563</td>\n",
       "      <td>NaN</td>\n",
       "      <td>USA(california)</td>\n",
       "      <td>66.0</td>\n",
       "    </tr>\n",
       "    <tr>\n",
       "      <th>17264</th>\n",
       "      <td>99809</td>\n",
       "      <td>NaN</td>\n",
       "      <td>USA(illinois)</td>\n",
       "      <td>71.0</td>\n",
       "    </tr>\n",
       "  </tbody>\n",
       "</table>\n",
       "</div>"
      ],
      "text/plain": [
       "       User-ID User-Age    User-Location  User-Location-Encoded\n",
       "12263    70318       31  USA(new jersey)                   84.0\n",
       "41395   239296      NaN  USA(california)                   66.0\n",
       "3578     21875       43     USA(florida)                   69.0\n",
       "597       3472       24  USA(washington)                   97.0\n",
       "33163   191991       28     USA(florida)                   69.0\n",
       "345       2033       27      USA(others)                   91.0\n",
       "11242    64503      NaN      USA(others)                   91.0\n",
       "24208   139228      NaN      USA(oregon)                   90.0\n",
       "9068     52563      NaN  USA(california)                   66.0\n",
       "17264    99809      NaN    USA(illinois)                   71.0"
      ]
     },
     "execution_count": 22,
     "metadata": {},
     "output_type": "execute_result"
    }
   ],
   "source": [
    "ordinal_encoder = OrdinalEncoder()\n",
    "users['User-Location-Encoded'] = ordinal_encoder.fit_transform(users[['User-Location']])\n",
    "users.sample(10)"
   ]
  },
  {
   "cell_type": "markdown",
   "metadata": {},
   "source": [
    "## 2.2. Preprocessing User-Age"
   ]
  },
  {
   "cell_type": "code",
   "execution_count": 23,
   "metadata": {},
   "outputs": [
    {
     "data": {
      "text/plain": [
       "0        NaN\n",
       "1        NaN\n",
       "2        NaN\n",
       "3        NaN\n",
       "4        14\"\n",
       "        ... \n",
       "48294     23\n",
       "48295     23\n",
       "48296     33\n",
       "48297     32\n",
       "48298    NaN\n",
       "Name: User-Age, Length: 48115, dtype: object"
      ]
     },
     "metadata": {},
     "output_type": "display_data"
    },
    {
     "name": "stdout",
     "output_type": "stream",
     "text": [
      "User-ID                      0\n",
      "User-Age                 18868\n",
      "User-Location                0\n",
      "User-Location-Encoded        0\n",
      "dtype: int64\n"
     ]
    }
   ],
   "source": [
    "display(users[\"User-Age\"])\n",
    "print(users.isna().sum())"
   ]
  },
  {
   "cell_type": "markdown",
   "metadata": {},
   "source": [
    "😭There are a lot of missing values, and there are also things like 14\", which is clearly not the format we want."
   ]
  },
  {
   "cell_type": "markdown",
   "metadata": {},
   "source": [
    "### 2.2.1. Cleaning of User-Age non-missing values"
   ]
  },
  {
   "cell_type": "markdown",
   "metadata": {},
   "source": [
    "**1️⃣ Remove double quotes**\n",
    "```Python\n",
    "users[\"User-Age\"].str.replace('\"', \"\")\n",
    "```\n",
    "\n",
    "**2️⃣ Replace the string \"NaN\" with a missing value.**\n",
    "```Python\n",
    "users[\"User-Age\"].str.replace('\"', \"\").replace(\"NaN\", pd.NA)\n",
    "```\n",
    "\n",
    "**3️⃣ Converting a data type to a floating point number**\n",
    "```Python\n",
    "users[\"User-Age\"].str.replace('\"', \"\").replace(\"NaN\", pd.NA).astype(float)\n",
    "```\n",
    "\n",
    "**4️⃣ Final conversion to integer type**\n",
    "```Python\n",
    "users[\"User-Age\"].str.replace('\"', \"\").replace(\"NaN\", pd.NA).astype(float).astype(\"Int64\")\n",
    "```"
   ]
  },
  {
   "cell_type": "code",
   "execution_count": 24,
   "metadata": {},
   "outputs": [
    {
     "name": "stdout",
     "output_type": "stream",
     "text": [
      "0        <NA>\n",
      "1        <NA>\n",
      "2        <NA>\n",
      "3        <NA>\n",
      "4          14\n",
      "         ... \n",
      "48294      23\n",
      "48295      23\n",
      "48296      33\n",
      "48297      32\n",
      "48298    <NA>\n",
      "Name: User-Age, Length: 48115, dtype: Int64\n"
     ]
    },
    {
     "data": {
      "image/png": "[encoded data removed]",
      "text/plain": [
       "<Figure size 640x480 with 1 Axes>"
      ]
     },
     "metadata": {},
     "output_type": "display_data"
    }
   ],
   "source": [
    "users[\"User-Age\"] = users[\"User-Age\"].str.replace('\"', \"\").replace(\"NaN\", pd.NA).astype(float).astype(\"Int64\")\n",
    "\n",
    "# Display the updated users DataFrame\n",
    "print(users[\"User-Age\"])\n",
    "\n",
    "users['User-Age'].plot(kind='density')\n",
    "plt.title('User Age Distribution')\n",
    "plt.xlabel('Age')\n",
    "plt.ylabel('Density')\n",
    "plt.show()\n"
   ]
  },
  {
   "cell_type": "markdown",
   "metadata": {},
   "source": [
    "### 2.2.2. Filling in missing values for User-Age"
   ]
  },
  {
   "cell_type": "markdown",
   "metadata": {},
   "source": [
    "**1️⃣**Mean and standard deviation before adjustment"
   ]
  },
  {
   "cell_type": "code",
   "execution_count": 25,
   "metadata": {},
   "outputs": [
    {
     "name": "stdout",
     "output_type": "stream",
     "text": [
      "36.20008889800663 \n",
      " 14.603027520568833\n"
     ]
    }
   ],
   "source": [
    "mean_age = users['User-Age'].mean(skipna=True)\n",
    "std_age = users['User-Age'].std(skipna=True)\n",
    "print(mean_age, \"\\n\", std_age)"
   ]
  },
  {
   "cell_type": "markdown",
   "metadata": {},
   "source": [
    "**2️⃣**Stochastic padding based on normal distribution"
   ]
  },
  {
   "cell_type": "code",
   "execution_count": 26,
   "metadata": {},
   "outputs": [],
   "source": [
    "# 对缺失值填充符合原有数据分布的随机值\n",
    "np.random.seed(42)  # 设置随机种子以确保结果的可重复性\n",
    "users['User-Age'] = users['User-Age'].apply(lambda x: np.random.normal(mean_age, std_age) if pd.isna(x) else x)"
   ]
  },
  {
   "cell_type": "markdown",
   "metadata": {},
   "source": [
    "**3️⃣**Adjusted mean and standard deviation"
   ]
  },
  {
   "cell_type": "code",
   "execution_count": 27,
   "metadata": {},
   "outputs": [
    {
     "name": "stdout",
     "output_type": "stream",
     "text": [
      "36.230992789786555 \n",
      " 14.618844516053535\n"
     ]
    }
   ],
   "source": [
    "mean_age = users['User-Age'].mean(skipna=True)\n",
    "std_age = users['User-Age'].std(skipna=True)\n",
    "print(mean_age, \"\\n\", std_age)"
   ]
  },
  {
   "cell_type": "markdown",
   "metadata": {},
   "source": [
    "**4️⃣**Adjustment results"
   ]
  },
  {
   "cell_type": "code",
   "execution_count": 28,
   "metadata": {},
   "outputs": [
    {
     "data": {
      "image/png": "[encoded data removed]",
      "text/plain": [
       "<Figure size 640x480 with 1 Axes>"
      ]
     },
     "metadata": {},
     "output_type": "display_data"
    }
   ],
   "source": [
    "users['User-Age'].plot(kind='density')\n",
    "plt.title('User Age Distribution')\n",
    "plt.xlabel('Age')\n",
    "plt.ylabel('Density')\n",
    "plt.show()\n"
   ]
  },
  {
   "cell_type": "markdown",
   "metadata": {},
   "source": [
    "### 2.2.3. Handling outliers in User-Age"
   ]
  },
  {
   "cell_type": "markdown",
   "metadata": {},
   "source": [
    "🤪Uniformly set at 99 for ages greater than 100 and 1 for ages less than 0"
   ]
  },
  {
   "cell_type": "code",
   "execution_count": 29,
   "metadata": {},
   "outputs": [
    {
     "data": {
      "image/png": "[encoded data removed]",
      "text/plain": [
       "<Figure size 640x480 with 1 Axes>"
      ]
     },
     "metadata": {},
     "output_type": "display_data"
    }
   ],
   "source": [
    "# 使用clip方法限制年龄上限为100\n",
    "users['User-Age'] = users['User-Age'].apply(lambda x: 99 if x >= 100 else (1 if x <= 0 else x))\n",
    "\n",
    "users['User-Age'].hist(bins=5)\n",
    "plt.title('User Age Distribution')\n",
    "plt.xlabel('Age')\n",
    "plt.ylabel('Frequency')\n",
    "plt.show()"
   ]
  },
  {
   "cell_type": "markdown",
   "metadata": {},
   "source": [
    "### 2.2.4. Binning User-Age"
   ]
  },
  {
   "cell_type": "markdown",
   "metadata": {},
   "source": [
    "**1️⃣**Define new binning and labelling"
   ]
  },
  {
   "cell_type": "code",
   "execution_count": 30,
   "metadata": {},
   "outputs": [],
   "source": [
    "bins = list(range(0, 101, 5))  \n",
    "labels = list(range(1, 21))  "
   ]
  },
  {
   "cell_type": "markdown",
   "metadata": {},
   "source": [
    "**2️⃣**Binning the age"
   ]
  },
  {
   "cell_type": "code",
   "execution_count": 31,
   "metadata": {},
   "outputs": [
    {
     "data": {
      "text/plain": [
       "<Axes: xlabel='User-Age-Binned'>"
      ]
     },
     "execution_count": 31,
     "metadata": {},
     "output_type": "execute_result"
    },
    {
     "data": {
      "image/png": "[encoded data removed]",
      "text/plain": [
       "<Figure size 640x480 with 1 Axes>"
      ]
     },
     "metadata": {},
     "output_type": "display_data"
    }
   ],
   "source": [
    "users[\"User-Age-Binned\"] = pd.cut(users[\"User-Age\"], \n",
    "                                  bins=bins, \n",
    "                                  labels=labels, \n",
    "                                  include_lowest=True)\n",
    "\n",
    "users[\"User-Age-Binned\"].value_counts().sort_index().plot(kind='bar')"
   ]
  },
  {
   "cell_type": "markdown",
   "metadata": {},
   "source": [
    "## 2.3. Merge & Scaling"
   ]
  },
  {
   "cell_type": "code",
   "execution_count": 32,
   "metadata": {},
   "outputs": [
    {
     "data": {
      "text/html": [
       "<div>\n",
       "<style scoped>\n",
       "    .dataframe tbody tr th:only-of-type {\n",
       "        vertical-align: middle;\n",
       "    }\n",
       "\n",
       "    .dataframe tbody tr th {\n",
       "        vertical-align: top;\n",
       "    }\n",
       "\n",
       "    .dataframe thead th {\n",
       "        text-align: right;\n",
       "    }\n",
       "</style>\n",
       "<table border=\"1\" class=\"dataframe\">\n",
       "  <thead>\n",
       "    <tr style=\"text-align: right;\">\n",
       "      <th></th>\n",
       "      <th>User-ID</th>\n",
       "      <th>User-Location-Encoded</th>\n",
       "      <th>User-Age-Binned</th>\n",
       "    </tr>\n",
       "  </thead>\n",
       "  <tbody>\n",
       "    <tr>\n",
       "      <th>0</th>\n",
       "      <td>8</td>\n",
       "      <td>-1.991200</td>\n",
       "      <td>0.461292</td>\n",
       "    </tr>\n",
       "    <tr>\n",
       "      <th>1</th>\n",
       "      <td>9</td>\n",
       "      <td>0.982708</td>\n",
       "      <td>-0.238173</td>\n",
       "    </tr>\n",
       "    <tr>\n",
       "      <th>2</th>\n",
       "      <td>16</td>\n",
       "      <td>0.660236</td>\n",
       "      <td>0.811025</td>\n",
       "    </tr>\n",
       "    <tr>\n",
       "      <th>3</th>\n",
       "      <td>17</td>\n",
       "      <td>1.054368</td>\n",
       "      <td>1.510490</td>\n",
       "    </tr>\n",
       "    <tr>\n",
       "      <th>4</th>\n",
       "      <td>19</td>\n",
       "      <td>0.875217</td>\n",
       "      <td>-1.637104</td>\n",
       "    </tr>\n",
       "  </tbody>\n",
       "</table>\n",
       "</div>"
      ],
      "text/plain": [
       "   User-ID  User-Location-Encoded  User-Age-Binned\n",
       "0        8              -1.991200         0.461292\n",
       "1        9               0.982708        -0.238173\n",
       "2       16               0.660236         0.811025\n",
       "3       17               1.054368         1.510490\n",
       "4       19               0.875217        -1.637104"
      ]
     },
     "metadata": {},
     "output_type": "display_data"
    }
   ],
   "source": [
    "scaler = StandardScaler()\n",
    "users[['User-Age-Binned', 'User-Location-Encoded']] = scaler.fit_transform(users[['User-Age-Binned', 'User-Location-Encoded']])\n",
    "\n",
    "users_cleaned = users.drop(columns=['User-Location', 'User-Age'])\n",
    "# 显示修改后的 DataFrame 的前几行\n",
    "display(users_cleaned.head())"
   ]
  },
  {
   "cell_type": "markdown",
   "metadata": {},
   "source": [
    "⚠️The User-ID can't be deleted here because it's still needed as a Primary Key to connect to the Ratings table."
   ]
  },
  {
   "cell_type": "markdown",
   "metadata": {},
   "source": [
    "# 3. Preprocessing Books"
   ]
  },
  {
   "cell_type": "code",
   "execution_count": 33,
   "metadata": {},
   "outputs": [
    {
     "data": {
      "text/html": [
       "<div>\n",
       "<style scoped>\n",
       "    .dataframe tbody tr th:only-of-type {\n",
       "        vertical-align: middle;\n",
       "    }\n",
       "\n",
       "    .dataframe tbody tr th {\n",
       "        vertical-align: top;\n",
       "    }\n",
       "\n",
       "    .dataframe thead th {\n",
       "        text-align: right;\n",
       "    }\n",
       "</style>\n",
       "<table border=\"1\" class=\"dataframe\">\n",
       "  <thead>\n",
       "    <tr style=\"text-align: right;\">\n",
       "      <th></th>\n",
       "      <th>ISBN</th>\n",
       "      <th>Book-Title</th>\n",
       "      <th>Book-Author</th>\n",
       "      <th>Year-Of-Publication</th>\n",
       "      <th>Book-Publisher</th>\n",
       "    </tr>\n",
       "  </thead>\n",
       "  <tbody>\n",
       "    <tr>\n",
       "      <th>5159</th>\n",
       "      <td>0670894605</td>\n",
       "      <td>The Secret Life of Bees</td>\n",
       "      <td>Sue Monk Kidd</td>\n",
       "      <td>2002</td>\n",
       "      <td>Viking Books</td>\n",
       "    </tr>\n",
       "    <tr>\n",
       "      <th>5539</th>\n",
       "      <td>0140434941</td>\n",
       "      <td>David Copperfield (Penguin Classics)</td>\n",
       "      <td>Charles Dickens</td>\n",
       "      <td>1997</td>\n",
       "      <td>Penguin Books</td>\n",
       "    </tr>\n",
       "    <tr>\n",
       "      <th>4977</th>\n",
       "      <td>0440150167</td>\n",
       "      <td>Love and War</td>\n",
       "      <td>John Jakes</td>\n",
       "      <td>1985</td>\n",
       "      <td>Dell Publishing Company</td>\n",
       "    </tr>\n",
       "    <tr>\n",
       "      <th>13235</th>\n",
       "      <td>8845247007</td>\n",
       "      <td>Il Diavolo E La Signorina Prym</td>\n",
       "      <td>Paulo Coelho</td>\n",
       "      <td>0</td>\n",
       "      <td>Fabbri - RCS Libri</td>\n",
       "    </tr>\n",
       "    <tr>\n",
       "      <th>2423</th>\n",
       "      <td>0375507523</td>\n",
       "      <td>Bushwhacked : Life in George W. Bush's America</td>\n",
       "      <td>MOLLY IVINS</td>\n",
       "      <td>2003</td>\n",
       "      <td>Random House</td>\n",
       "    </tr>\n",
       "  </tbody>\n",
       "</table>\n",
       "</div>"
      ],
      "text/plain": [
       "             ISBN                                      Book-Title  \\\n",
       "5159   0670894605                         The Secret Life of Bees   \n",
       "5539   0140434941            David Copperfield (Penguin Classics)   \n",
       "4977   0440150167                                    Love and War   \n",
       "13235  8845247007                  Il Diavolo E La Signorina Prym   \n",
       "2423   0375507523  Bushwhacked : Life in George W. Bush's America   \n",
       "\n",
       "           Book-Author  Year-Of-Publication           Book-Publisher  \n",
       "5159     Sue Monk Kidd                 2002             Viking Books  \n",
       "5539   Charles Dickens                 1997            Penguin Books  \n",
       "4977        John Jakes                 1985  Dell Publishing Company  \n",
       "13235     Paulo Coelho                    0       Fabbri - RCS Libri  \n",
       "2423       MOLLY IVINS                 2003             Random House  "
      ]
     },
     "metadata": {},
     "output_type": "display_data"
    }
   ],
   "source": [
    "display(books.sample(5))"
   ]
  },
  {
   "cell_type": "markdown",
   "metadata": {},
   "source": [
    "## 3.1. Preprocessing Year-Of-Publication"
   ]
  },
  {
   "cell_type": "markdown",
   "metadata": {},
   "source": [
    "### 3.1.1. Handling of Outliers"
   ]
  },
  {
   "cell_type": "code",
   "execution_count": 34,
   "metadata": {},
   "outputs": [
    {
     "data": {
      "image/png": "[encoded data removed]",
      "text/plain": [
       "<Figure size 640x480 with 1 Axes>"
      ]
     },
     "metadata": {},
     "output_type": "display_data"
    }
   ],
   "source": [
    "# Publication years earlier than 1930 are counted as 1930 and those older than 2024 are counted as 2024.\n",
    "books[\"Year-Of-Publication\"] = books[\"Year-Of-Publication\"].clip(upper=2024, lower=1930)\n",
    "\n",
    "books[\"Year-Of-Publication\"].hist(bins=10)\n",
    "plt.title('Year-Of-Publication Distribution')\n",
    "plt.xlabel('Year')\n",
    "plt.ylabel('Frequency')\n",
    "plt.show()"
   ]
  },
  {
   "cell_type": "markdown",
   "metadata": {},
   "source": [
    "### 3.1.2. Binning Year-Of-Publication"
   ]
  },
  {
   "cell_type": "code",
   "execution_count": 35,
   "metadata": {},
   "outputs": [
    {
     "data": {
      "text/html": [
       "<div>\n",
       "<style scoped>\n",
       "    .dataframe tbody tr th:only-of-type {\n",
       "        vertical-align: middle;\n",
       "    }\n",
       "\n",
       "    .dataframe tbody tr th {\n",
       "        vertical-align: top;\n",
       "    }\n",
       "\n",
       "    .dataframe thead th {\n",
       "        text-align: right;\n",
       "    }\n",
       "</style>\n",
       "<table border=\"1\" class=\"dataframe\">\n",
       "  <thead>\n",
       "    <tr style=\"text-align: right;\">\n",
       "      <th></th>\n",
       "      <th>Year-Of-Publication</th>\n",
       "      <th>Year-Of-Publication-Binned</th>\n",
       "    </tr>\n",
       "  </thead>\n",
       "  <tbody>\n",
       "    <tr>\n",
       "      <th>16335</th>\n",
       "      <td>1999</td>\n",
       "      <td>[1990, 2000)</td>\n",
       "    </tr>\n",
       "    <tr>\n",
       "      <th>7500</th>\n",
       "      <td>1993</td>\n",
       "      <td>[1990, 2000)</td>\n",
       "    </tr>\n",
       "    <tr>\n",
       "      <th>15151</th>\n",
       "      <td>2002</td>\n",
       "      <td>[2000, 2010)</td>\n",
       "    </tr>\n",
       "    <tr>\n",
       "      <th>5731</th>\n",
       "      <td>1995</td>\n",
       "      <td>[1990, 2000)</td>\n",
       "    </tr>\n",
       "    <tr>\n",
       "      <th>16226</th>\n",
       "      <td>2000</td>\n",
       "      <td>[2000, 2010)</td>\n",
       "    </tr>\n",
       "  </tbody>\n",
       "</table>\n",
       "</div>"
      ],
      "text/plain": [
       "       Year-Of-Publication Year-Of-Publication-Binned\n",
       "16335                 1999               [1990, 2000)\n",
       "7500                  1993               [1990, 2000)\n",
       "15151                 2002               [2000, 2010)\n",
       "5731                  1995               [1990, 2000)\n",
       "16226                 2000               [2000, 2010)"
      ]
     },
     "execution_count": 35,
     "metadata": {},
     "output_type": "execute_result"
    }
   ],
   "source": [
    "bins = [1930, 1940, 1950, 1960, 1970, 1980, 1990, 2000, 2010, 2020, 2030]\n",
    "books[\"Year-Of-Publication-Binned\"] = pd.cut(books[\"Year-Of-Publication\"], bins=bins, right=False)\n",
    "\n",
    "books[['Year-Of-Publication', 'Year-Of-Publication-Binned']].sample(5)"
   ]
  },
  {
   "cell_type": "markdown",
   "metadata": {},
   "source": [
    "### 3.1.2. Encoding Year-Of-Publication-Binned"
   ]
  },
  {
   "cell_type": "code",
   "execution_count": 36,
   "metadata": {},
   "outputs": [
    {
     "data": {
      "text/html": [
       "<div>\n",
       "<style scoped>\n",
       "    .dataframe tbody tr th:only-of-type {\n",
       "        vertical-align: middle;\n",
       "    }\n",
       "\n",
       "    .dataframe tbody tr th {\n",
       "        vertical-align: top;\n",
       "    }\n",
       "\n",
       "    .dataframe thead th {\n",
       "        text-align: right;\n",
       "    }\n",
       "</style>\n",
       "<table border=\"1\" class=\"dataframe\">\n",
       "  <thead>\n",
       "    <tr style=\"text-align: right;\">\n",
       "      <th></th>\n",
       "      <th>Year-Of-Publication</th>\n",
       "      <th>Year-Of-Publication-Binned</th>\n",
       "    </tr>\n",
       "  </thead>\n",
       "  <tbody>\n",
       "    <tr>\n",
       "      <th>2555</th>\n",
       "      <td>2002</td>\n",
       "      <td>7.0</td>\n",
       "    </tr>\n",
       "    <tr>\n",
       "      <th>11893</th>\n",
       "      <td>1998</td>\n",
       "      <td>6.0</td>\n",
       "    </tr>\n",
       "    <tr>\n",
       "      <th>16472</th>\n",
       "      <td>2003</td>\n",
       "      <td>7.0</td>\n",
       "    </tr>\n",
       "    <tr>\n",
       "      <th>10054</th>\n",
       "      <td>1987</td>\n",
       "      <td>5.0</td>\n",
       "    </tr>\n",
       "    <tr>\n",
       "      <th>16233</th>\n",
       "      <td>1995</td>\n",
       "      <td>6.0</td>\n",
       "    </tr>\n",
       "  </tbody>\n",
       "</table>\n",
       "</div>"
      ],
      "text/plain": [
       "       Year-Of-Publication  Year-Of-Publication-Binned\n",
       "2555                  2002                         7.0\n",
       "11893                 1998                         6.0\n",
       "16472                 2003                         7.0\n",
       "10054                 1987                         5.0\n",
       "16233                 1995                         6.0"
      ]
     },
     "execution_count": 36,
     "metadata": {},
     "output_type": "execute_result"
    }
   ],
   "source": [
    "ordinal_encoder = OrdinalEncoder()\n",
    "\n",
    "# 将输入重塑为二维数组\n",
    "encoded_values = ordinal_encoder.fit_transform(books['Year-Of-Publication-Binned'].values.reshape(-1, 1))\n",
    "\n",
    "books['Year-Of-Publication-Binned'] = encoded_values\n",
    "books[['Year-Of-Publication', 'Year-Of-Publication-Binned']].sample(5)"
   ]
  },
  {
   "cell_type": "markdown",
   "metadata": {},
   "source": [
    "## 3.2. Encoding Publisher & Author"
   ]
  },
  {
   "cell_type": "code",
   "execution_count": 37,
   "metadata": {},
   "outputs": [
    {
     "data": {
      "text/html": [
       "<div>\n",
       "<style scoped>\n",
       "    .dataframe tbody tr th:only-of-type {\n",
       "        vertical-align: middle;\n",
       "    }\n",
       "\n",
       "    .dataframe tbody tr th {\n",
       "        vertical-align: top;\n",
       "    }\n",
       "\n",
       "    .dataframe thead th {\n",
       "        text-align: right;\n",
       "    }\n",
       "</style>\n",
       "<table border=\"1\" class=\"dataframe\">\n",
       "  <thead>\n",
       "    <tr style=\"text-align: right;\">\n",
       "      <th></th>\n",
       "      <th>ISBN</th>\n",
       "      <th>Book-Title</th>\n",
       "      <th>Book-Author</th>\n",
       "      <th>Year-Of-Publication</th>\n",
       "      <th>Book-Publisher</th>\n",
       "      <th>Year-Of-Publication-Binned</th>\n",
       "      <th>Book-Author-Encoded</th>\n",
       "      <th>Book-Publisher-Encoded</th>\n",
       "    </tr>\n",
       "  </thead>\n",
       "  <tbody>\n",
       "    <tr>\n",
       "      <th>6741</th>\n",
       "      <td>0517576988</td>\n",
       "      <td>Backlash: The Undeclared War Against American ...</td>\n",
       "      <td>Susan Faludi</td>\n",
       "      <td>1991</td>\n",
       "      <td>Random House Inc</td>\n",
       "      <td>6.0</td>\n",
       "      <td>5839.0</td>\n",
       "      <td>970.0</td>\n",
       "    </tr>\n",
       "    <tr>\n",
       "      <th>13095</th>\n",
       "      <td>0679750789</td>\n",
       "      <td>The Tightwad Gazette II: Promoting Thrift As a...</td>\n",
       "      <td>Amy Dacyczyn</td>\n",
       "      <td>1995</td>\n",
       "      <td>Random House Inc</td>\n",
       "      <td>6.0</td>\n",
       "      <td>234.0</td>\n",
       "      <td>970.0</td>\n",
       "    </tr>\n",
       "    <tr>\n",
       "      <th>12066</th>\n",
       "      <td>0380015676</td>\n",
       "      <td>Strong Poison</td>\n",
       "      <td>Dorothy L. Sayers</td>\n",
       "      <td>1985</td>\n",
       "      <td>Harper Mass Market Paperbacks (Mm)</td>\n",
       "      <td>5.0</td>\n",
       "      <td>1582.0</td>\n",
       "      <td>508.0</td>\n",
       "    </tr>\n",
       "  </tbody>\n",
       "</table>\n",
       "</div>"
      ],
      "text/plain": [
       "             ISBN                                         Book-Title  \\\n",
       "6741   0517576988  Backlash: The Undeclared War Against American ...   \n",
       "13095  0679750789  The Tightwad Gazette II: Promoting Thrift As a...   \n",
       "12066  0380015676                                      Strong Poison   \n",
       "\n",
       "             Book-Author  Year-Of-Publication  \\\n",
       "6741        Susan Faludi                 1991   \n",
       "13095       Amy Dacyczyn                 1995   \n",
       "12066  Dorothy L. Sayers                 1985   \n",
       "\n",
       "                           Book-Publisher  Year-Of-Publication-Binned  \\\n",
       "6741                     Random House Inc                         6.0   \n",
       "13095                    Random House Inc                         6.0   \n",
       "12066  Harper Mass Market Paperbacks (Mm)                         5.0   \n",
       "\n",
       "       Book-Author-Encoded  Book-Publisher-Encoded  \n",
       "6741                5839.0                   970.0  \n",
       "13095                234.0                   970.0  \n",
       "12066               1582.0                   508.0  "
      ]
     },
     "execution_count": 37,
     "metadata": {},
     "output_type": "execute_result"
    }
   ],
   "source": [
    "ordinal_encoder = OrdinalEncoder()\n",
    "# 对书籍的作者名称进行编码\n",
    "books['Book-Author-Encoded'] = ordinal_encoder.fit_transform(books['Book-Author'].values.reshape(-1, 1))\n",
    "# 对书籍的出版社名称进行编码\n",
    "books['Book-Publisher-Encoded'] = ordinal_encoder.fit_transform(books['Book-Publisher'].values.reshape(-1, 1))\n",
    "books.sample(3)"
   ]
  },
  {
   "cell_type": "markdown",
   "metadata": {},
   "source": [
    "## 3.3. Book-Title Preprocessing"
   ]
  },
  {
   "cell_type": "markdown",
   "metadata": {},
   "source": [
    "⚠️Distinguished from other textual data, Book-Title has a distinct meaning that profoundly affects the operation of the recommender system. So I used some advanced NLP methods here"
   ]
  },
  {
   "cell_type": "code",
   "execution_count": 38,
   "metadata": {},
   "outputs": [
    {
     "name": "stdout",
     "output_type": "stream",
     "text": [
      "Titles: 16135\n"
     ]
    }
   ],
   "source": [
    "print(\"Titles:\", len(set(books['Book-Title'])))"
   ]
  },
  {
   "cell_type": "markdown",
   "metadata": {},
   "source": [
    "💪Due to the wide variety of Book-Titles, the spacy library is used for more complex processing."
   ]
  },
  {
   "cell_type": "markdown",
   "metadata": {},
   "source": [
    "### 3.3.1. Cleaning the titles"
   ]
  },
  {
   "cell_type": "markdown",
   "metadata": {},
   "source": [
    "We use advanced🚀method in `spacy`\n",
    "\n",
    "remember👀:\n",
    "\n",
    "```terminal\n",
    "pip install spacy\n",
    "python -m spacy download en_core_web_sm  # this is to download ENGLISH processing model\n",
    "```\n"
   ]
  },
  {
   "cell_type": "code",
   "execution_count": 39,
   "metadata": {},
   "outputs": [
    {
     "data": {
      "text/plain": [
       "0                                             clara callan\n",
       "1        flu story great influenza pandemic 1918 search...\n",
       "2                                         kitchen god wife\n",
       "3                                                testament\n",
       "4                       beloved plume contemporary fiction\n",
       "                               ...                        \n",
       "18180                                             love etc\n",
       "18181                           wit whimsy mary engelbreit\n",
       "18182                               los detective salvajes\n",
       "18183                             ice house tv tie edition\n",
       "18184          trouble business vintage crime black lizard\n",
       "Name: Book-Title, Length: 18185, dtype: object"
      ]
     },
     "execution_count": 39,
     "metadata": {},
     "output_type": "execute_result"
    }
   ],
   "source": [
    "# 加载英语NLP模型\n",
    "nlp = spacy.load('en_core_web_sm')\n",
    "def preprocess_text_spacy(text):\n",
    "    # 使用SpaCy处理文本\n",
    "    doc = nlp(text.lower())  # 转换为小写并处理文本\n",
    "    # 生成不包含停用词和标点的词形还原形式的列表\n",
    "    tokens = [token.lemma_ for token in doc if not token.is_stop and not token.is_punct]\n",
    "    # 将处理后的单词重新组合为字符串\n",
    "    clean_text = ' '.join(tokens)\n",
    "    return clean_text\n",
    "books['Book-Title'] = books['Book-Title'].apply(preprocess_text_spacy)\n",
    "books['Book-Title']\n"
   ]
  },
  {
   "cell_type": "markdown",
   "metadata": {},
   "source": [
    "### 3.3.2. Creating Word Cloud"
   ]
  },
  {
   "cell_type": "code",
   "execution_count": 40,
   "metadata": {},
   "outputs": [
    {
     "data": {
      "image/png": "[encoded data removed]",
      "text/plain": [
       "<Figure size 1000x600 with 1 Axes>"
      ]
     },
     "metadata": {},
     "output_type": "display_data"
    }
   ],
   "source": [
    "# 创建词云对象\n",
    "wordcloud = WordCloud(\n",
    "    width=1800, \n",
    "    height=1400, \n",
    "    background_color='white',\n",
    "    font_path='Fonts/arial.TTF'  # 指定字体路径\n",
    "    ).generate(' ' .join(books['Book-Title']))\n",
    "\n",
    "# 使用matplotlib绘制词云\n",
    "plt.figure(figsize=(10, 6))\n",
    "plt.imshow(wordcloud, interpolation='bilinear')\n",
    "plt.axis('off')  # 不显示坐标轴\n",
    "plt.show()"
   ]
  },
  {
   "cell_type": "markdown",
   "metadata": {},
   "source": [
    "### 3.3.3. Word➡️Vector: BERT based method"
   ]
  },
  {
   "cell_type": "markdown",
   "metadata": {},
   "source": [
    "We use BERT model, the strongest🚀 NLP(Natural Languange Processing) Model, which based on Transformer and includes the TF-IDF method\n",
    "\n",
    "<font color='red'>**More about Transformer/BERT😍**</font>\n",
    "\n",
    "```bibtex\n",
    "[1]Vaswani, A., Shazeer, N., Parmar, N., Uszkoreit, J., Jones, L., Gomez, A. N., ... & Polosukhin, I. (2017). Attention is all you need. Advances in neural information processing systems, 30.\n",
    "\n",
    "[2]Devlin, J., Chang, M. W., Lee, K., & Toutanova, K. (2018). Bert: Pre-training of deep bidirectional transformers for language understanding. arXiv preprint arXiv:1810.04805.\n",
    "\n",
    "```\n",
    "\n"
   ]
  },
  {
   "cell_type": "markdown",
   "metadata": {},
   "source": [
    "#### 3.3.3.1. Load pretrained model"
   ]
  },
  {
   "cell_type": "code",
   "execution_count": 41,
   "metadata": {},
   "outputs": [],
   "source": [
    "# 加载预训练的BERT分词器和模型\n",
    "tokenizer = BertTokenizer.from_pretrained('bert-base-uncased')\n",
    "model = BertModel.from_pretrained('bert-base-uncased')"
   ]
  },
  {
   "cell_type": "markdown",
   "metadata": {},
   "source": [
    "#### 3.3.3.2. Trying to move the pretrained model to GPU\n",
    "\n",
    "1. Aimed to accelerate⚡the training process\n",
    "\n",
    "2. If you use Apple device or AMD GPU, just ignore.🚫"
   ]
  },
  {
   "cell_type": "code",
   "execution_count": 42,
   "metadata": {},
   "outputs": [
    {
     "data": {
      "text/plain": [
       "device(type='cpu')"
      ]
     },
     "execution_count": 42,
     "metadata": {},
     "output_type": "execute_result"
    }
   ],
   "source": [
    "# 确定设备\n",
    "device = torch.device(\"cuda\" if torch.cuda.is_available() else \"cpu\")\n",
    "model = model.to(device)\n",
    "\n",
    "device"
   ]
  },
  {
   "cell_type": "markdown",
   "metadata": {},
   "source": [
    "#### 3.3.3.3. Traning Model"
   ]
  },
  {
   "cell_type": "code",
   "execution_count": 43,
   "metadata": {},
   "outputs": [],
   "source": [
    "def Preprocess_title_vector_train(tokenizer, model, texts):\n",
    "    # 将文本批量编码\n",
    "    encoded_input = tokenizer(texts, return_tensors='pt', padding=True, truncation=True, max_length=64).to(device)\n",
    "    # 使用BERT模型\n",
    "    with torch.no_grad():\n",
    "        output = model(**encoded_input)\n",
    "    # 获取隐藏状态的平均值\n",
    "    sentence_embeddings = torch.mean(output.last_hidden_state, dim=1)\n",
    "    return sentence_embeddings.cpu()"
   ]
  },
  {
   "cell_type": "markdown",
   "metadata": {},
   "source": [
    "#### 3.3.3.4. Batch text processing (acceleration)\n",
    "\n",
    "Takes fucking long time👿 (5min), have a cup of coffee my friend☕\n",
    "\n",
    "(If do not apply Batch processing, even takes more than 30mins😂)"
   ]
  },
  {
   "cell_type": "code",
   "execution_count": 44,
   "metadata": {},
   "outputs": [
    {
     "data": {
      "text/plain": [
       "0        [-0.123367414, 0.08614842, 0.16170923, -0.0326...\n",
       "1        [0.26721457, -0.037141554, 0.038198493, -0.233...\n",
       "2        [0.100275226, -0.026717773, 0.12962717, 0.0011...\n",
       "3        [-0.45583922, -0.13625537, 0.16664927, -0.3311...\n",
       "4        [0.09811925, -0.017514344, 0.13681182, -0.0188...\n",
       "                               ...                        \n",
       "18180    [-0.014118507, -0.16303538, 0.1871479, 0.11415...\n",
       "18181    [0.06956666, -0.023308061, 0.25291815, 0.00722...\n",
       "18182    [-0.075032696, -0.2976875, -0.023490418, 0.268...\n",
       "18183    [-0.019509804, -0.75262487, 0.45160484, 0.3689...\n",
       "18184    [0.29154196, -0.042590592, -0.112933084, 0.124...\n",
       "Name: Book-Title-Embeddings, Length: 18185, dtype: object"
      ]
     },
     "execution_count": 44,
     "metadata": {},
     "output_type": "execute_result"
    }
   ],
   "source": [
    "# 批量处理文本\n",
    "batch_size = 32 \n",
    "all_embeddings = []\n",
    "\n",
    "# 使用批量处理而非逐个处理\n",
    "for i in range(0, len(books['Book-Title']), batch_size):\n",
    "    batch_titles = books['Book-Title'][i:i+batch_size].tolist()\n",
    "    # 确保传递tokenizer, model, device到函数\n",
    "    embeddings = Preprocess_title_vector_train(tokenizer, model, batch_titles)\n",
    "    all_embeddings.extend(embeddings.numpy())  # 将tensor转换为numpy数组并存储\n",
    "\n",
    "# 将嵌入结果保存到DataFrame中\n",
    "books['Book-Title-Embeddings'] = all_embeddings\n",
    "books['Book-Title-Embeddings']"
   ]
  },
  {
   "cell_type": "markdown",
   "metadata": {},
   "source": [
    "### 3.3.4. Vector Dimension Reduction: UMAP Baesd\n",
    "\n",
    "🥰For the high-dimensional vectors obtained by BERT processing, UMAP is better than PCA.\n",
    "\n",
    "🌱Remember: pip install umap-learn"
   ]
  },
  {
   "cell_type": "code",
   "execution_count": 45,
   "metadata": {},
   "outputs": [
    {
     "name": "stdout",
     "output_type": "stream",
     "text": [
      "0    20.078470\n",
      "1     7.563434\n",
      "2    11.148304\n",
      "3    16.413679\n",
      "4     5.568898\n",
      "Name: Book-Title-Embeddings, dtype: float32\n"
     ]
    }
   ],
   "source": [
    "# 设置UMAP参数\n",
    "reducer = umap.UMAP(n_neighbors=15, n_components=1, metric='cosine')\n",
    "# 假设`bert_embeddings`是存储在DataFrame中的BERT嵌入向量\n",
    "bert_embeddings = np.array(books['Book-Title-Embeddings'].tolist())\n",
    "# 使用UMAP进行降维\n",
    "embedding = reducer.fit_transform(bert_embeddings)\n",
    "# 从列表中提取单个数值，并将其转换为数值类型\n",
    "embedding_values = [value[0] for value in embedding]\n",
    "embedding_values = np.array(embedding_values)\n",
    "# 更新DataFrame中的列，将降维后的数值保存到'Book-Title-Embeddings'\n",
    "books['Book-Title-Embeddings'] = embedding_values\n",
    "# 如果需要检查或操作降维后的数值，可以如此访问：\n",
    "print(books['Book-Title-Embeddings'].head())"
   ]
  },
  {
   "cell_type": "markdown",
   "metadata": {},
   "source": [
    "⚠️Due to the characteristics of random initialisation and batch processing, BERT's training results can vary greatly each time, but this does not affect subsequent classification and regression"
   ]
  },
  {
   "cell_type": "markdown",
   "metadata": {},
   "source": [
    "## 3.4. Merge & Scaling"
   ]
  },
  {
   "cell_type": "code",
   "execution_count": 46,
   "metadata": {},
   "outputs": [
    {
     "data": {
      "text/html": [
       "<div>\n",
       "<style scoped>\n",
       "    .dataframe tbody tr th:only-of-type {\n",
       "        vertical-align: middle;\n",
       "    }\n",
       "\n",
       "    .dataframe tbody tr th {\n",
       "        vertical-align: top;\n",
       "    }\n",
       "\n",
       "    .dataframe thead th {\n",
       "        text-align: right;\n",
       "    }\n",
       "</style>\n",
       "<table border=\"1\" class=\"dataframe\">\n",
       "  <thead>\n",
       "    <tr style=\"text-align: right;\">\n",
       "      <th></th>\n",
       "      <th>Year-Of-Publication-Binned</th>\n",
       "      <th>Book-Author-Encoded</th>\n",
       "      <th>Book-Publisher-Encoded</th>\n",
       "      <th>Book-Title-Embeddings</th>\n",
       "      <th>ISBN</th>\n",
       "    </tr>\n",
       "  </thead>\n",
       "  <tbody>\n",
       "    <tr>\n",
       "      <th>0</th>\n",
       "      <td>0.805577</td>\n",
       "      <td>1.015915</td>\n",
       "      <td>-0.341609</td>\n",
       "      <td>1.413804</td>\n",
       "      <td>0002005018</td>\n",
       "    </tr>\n",
       "    <tr>\n",
       "      <th>1</th>\n",
       "      <td>-0.078196</td>\n",
       "      <td>-0.598266</td>\n",
       "      <td>-0.625418</td>\n",
       "      <td>-0.283957</td>\n",
       "      <td>0374157065</td>\n",
       "    </tr>\n",
       "    <tr>\n",
       "      <th>2</th>\n",
       "      <td>-0.078196</td>\n",
       "      <td>-1.628969</td>\n",
       "      <td>0.710440</td>\n",
       "      <td>0.202358</td>\n",
       "      <td>0399135782</td>\n",
       "    </tr>\n",
       "    <tr>\n",
       "      <th>3</th>\n",
       "      <td>-0.078196</td>\n",
       "      <td>-0.112035</td>\n",
       "      <td>-0.916566</td>\n",
       "      <td>0.916647</td>\n",
       "      <td>0440234743</td>\n",
       "    </tr>\n",
       "    <tr>\n",
       "      <th>4</th>\n",
       "      <td>-0.078196</td>\n",
       "      <td>1.519245</td>\n",
       "      <td>0.607682</td>\n",
       "      <td>-0.554531</td>\n",
       "      <td>0452264464</td>\n",
       "    </tr>\n",
       "  </tbody>\n",
       "</table>\n",
       "</div>"
      ],
      "text/plain": [
       "   Year-Of-Publication-Binned  Book-Author-Encoded  Book-Publisher-Encoded  \\\n",
       "0                    0.805577             1.015915               -0.341609   \n",
       "1                   -0.078196            -0.598266               -0.625418   \n",
       "2                   -0.078196            -1.628969                0.710440   \n",
       "3                   -0.078196            -0.112035               -0.916566   \n",
       "4                   -0.078196             1.519245                0.607682   \n",
       "\n",
       "   Book-Title-Embeddings        ISBN  \n",
       "0               1.413804  0002005018  \n",
       "1              -0.283957  0374157065  \n",
       "2               0.202358  0399135782  \n",
       "3               0.916647  0440234743  \n",
       "4              -0.554531  0452264464  "
      ]
     },
     "metadata": {},
     "output_type": "display_data"
    }
   ],
   "source": [
    "# Select columns to be scaled\n",
    "columns_to_scale = [\n",
    "    'Year-Of-Publication-Binned', \n",
    "    'Book-Author-Encoded', \n",
    "    'Book-Publisher-Encoded',\n",
    "    'Book-Title-Embeddings'\n",
    "]\n",
    "# Initialize the scaler\n",
    "scaler = StandardScaler()\n",
    "# Apply the scaler only to the specified columns\n",
    "books_scaled = scaler.fit_transform(books[columns_to_scale])\n",
    "# Convert the scaled data back to a DataFrame\n",
    "books_scaled = pd.DataFrame(books_scaled, columns=columns_to_scale)\n",
    "# Merge the unscaled column back into the DataFrame\n",
    "books_cleaned = pd.concat([books_scaled, books['ISBN'].reset_index(drop=True)], axis=1)\n",
    "# Display the first few rows of the modified DataFrame\n",
    "display(books_cleaned.head())"
   ]
  },
  {
   "cell_type": "markdown",
   "metadata": {},
   "source": [
    "⚠️The ISBN can't be deleted here because it's still needed as a Primary Key to connect to the Ratings table."
   ]
  },
  {
   "cell_type": "markdown",
   "metadata": {},
   "source": [
    "# 4. Preprocessing Ratings"
   ]
  },
  {
   "cell_type": "markdown",
   "metadata": {},
   "source": [
    "## 4.1. Ratings Data"
   ]
  },
  {
   "cell_type": "code",
   "execution_count": 47,
   "metadata": {},
   "outputs": [
    {
     "data": {
      "text/html": [
       "<div>\n",
       "<style scoped>\n",
       "    .dataframe tbody tr th:only-of-type {\n",
       "        vertical-align: middle;\n",
       "    }\n",
       "\n",
       "    .dataframe tbody tr th {\n",
       "        vertical-align: top;\n",
       "    }\n",
       "\n",
       "    .dataframe thead th {\n",
       "        text-align: right;\n",
       "    }\n",
       "</style>\n",
       "<table border=\"1\" class=\"dataframe\">\n",
       "  <thead>\n",
       "    <tr style=\"text-align: right;\">\n",
       "      <th></th>\n",
       "      <th>User-ID</th>\n",
       "      <th>ISBN</th>\n",
       "      <th>Book-Rating</th>\n",
       "    </tr>\n",
       "  </thead>\n",
       "  <tbody>\n",
       "    <tr>\n",
       "      <th>0</th>\n",
       "      <td>276744</td>\n",
       "      <td>038550120X</td>\n",
       "      <td>7</td>\n",
       "    </tr>\n",
       "    <tr>\n",
       "      <th>1</th>\n",
       "      <td>276754</td>\n",
       "      <td>0684867621</td>\n",
       "      <td>8</td>\n",
       "    </tr>\n",
       "    <tr>\n",
       "      <th>2</th>\n",
       "      <td>276755</td>\n",
       "      <td>0451166892</td>\n",
       "      <td>5</td>\n",
       "    </tr>\n",
       "    <tr>\n",
       "      <th>3</th>\n",
       "      <td>276762</td>\n",
       "      <td>0380711524</td>\n",
       "      <td>5</td>\n",
       "    </tr>\n",
       "    <tr>\n",
       "      <th>4</th>\n",
       "      <td>276772</td>\n",
       "      <td>0553572369</td>\n",
       "      <td>7</td>\n",
       "    </tr>\n",
       "  </tbody>\n",
       "</table>\n",
       "</div>"
      ],
      "text/plain": [
       "   User-ID        ISBN  Book-Rating\n",
       "0   276744  038550120X            7\n",
       "1   276754  0684867621            8\n",
       "2   276755  0451166892            5\n",
       "3   276762  0380711524            5\n",
       "4   276772  0553572369            7"
      ]
     },
     "execution_count": 47,
     "metadata": {},
     "output_type": "execute_result"
    }
   ],
   "source": [
    "ratings.head()"
   ]
  },
  {
   "cell_type": "code",
   "execution_count": 48,
   "metadata": {},
   "outputs": [
    {
     "data": {
      "image/png": "[encoded data removed]",
      "text/plain": [
       "<Figure size 640x480 with 1 Axes>"
      ]
     },
     "metadata": {},
     "output_type": "display_data"
    }
   ],
   "source": [
    "plt.hist(ratings['Book-Rating'], bins=10, edgecolor='black')\n",
    "plt.title('Book-Rating Distribution')\n",
    "plt.xlabel('Book-Rating')\n",
    "plt.ylabel('Frequency')\n",
    "plt.show()"
   ]
  },
  {
   "cell_type": "markdown",
   "metadata": {},
   "source": [
    "## 4.2. Cut the Low Ratings\n",
    "\n",
    "Let all ratings from 1-5 be grouped as a 5\n",
    "\n",
    "Otherwise.......\n",
    "\n",
    "<img src=\"https://s2.loli.net/2024/05/02/1wFIymglAcDWtin.png\" alt=\"image-20240502021029530\" style=\"zoom: 50%;\" />"
   ]
  },
  {
   "cell_type": "code",
   "execution_count": 49,
   "metadata": {},
   "outputs": [
    {
     "data": {
      "text/html": [
       "<div>\n",
       "<style scoped>\n",
       "    .dataframe tbody tr th:only-of-type {\n",
       "        vertical-align: middle;\n",
       "    }\n",
       "\n",
       "    .dataframe tbody tr th {\n",
       "        vertical-align: top;\n",
       "    }\n",
       "\n",
       "    .dataframe thead th {\n",
       "        text-align: right;\n",
       "    }\n",
       "</style>\n",
       "<table border=\"1\" class=\"dataframe\">\n",
       "  <thead>\n",
       "    <tr style=\"text-align: right;\">\n",
       "      <th></th>\n",
       "      <th>User-ID</th>\n",
       "      <th>ISBN</th>\n",
       "      <th>Book-Rating</th>\n",
       "    </tr>\n",
       "  </thead>\n",
       "  <tbody>\n",
       "    <tr>\n",
       "      <th>0</th>\n",
       "      <td>276744</td>\n",
       "      <td>038550120X</td>\n",
       "      <td>7</td>\n",
       "    </tr>\n",
       "    <tr>\n",
       "      <th>1</th>\n",
       "      <td>276754</td>\n",
       "      <td>0684867621</td>\n",
       "      <td>8</td>\n",
       "    </tr>\n",
       "    <tr>\n",
       "      <th>2</th>\n",
       "      <td>276755</td>\n",
       "      <td>0451166892</td>\n",
       "      <td>5</td>\n",
       "    </tr>\n",
       "    <tr>\n",
       "      <th>3</th>\n",
       "      <td>276762</td>\n",
       "      <td>0380711524</td>\n",
       "      <td>5</td>\n",
       "    </tr>\n",
       "    <tr>\n",
       "      <th>4</th>\n",
       "      <td>276772</td>\n",
       "      <td>0553572369</td>\n",
       "      <td>7</td>\n",
       "    </tr>\n",
       "  </tbody>\n",
       "</table>\n",
       "</div>"
      ],
      "text/plain": [
       "   User-ID        ISBN  Book-Rating\n",
       "0   276744  038550120X            7\n",
       "1   276754  0684867621            8\n",
       "2   276755  0451166892            5\n",
       "3   276762  0380711524            5\n",
       "4   276772  0553572369            7"
      ]
     },
     "execution_count": 49,
     "metadata": {},
     "output_type": "execute_result"
    }
   ],
   "source": [
    "ratings.loc[ratings['Book-Rating'] <= 5, 'Book-Rating'] = 5\n",
    "ratings_cleaned = ratings\n",
    "ratings.head()"
   ]
  },
  {
   "cell_type": "markdown",
   "metadata": {},
   "source": [
    "⚠️The ISBN and User-ID can't be deleted here because they are still needed as composite keys to join with the Ratings table."
   ]
  },
  {
   "cell_type": "markdown",
   "metadata": {},
   "source": [
    "# 5. For All the Data: Merge & Review"
   ]
  },
  {
   "cell_type": "markdown",
   "metadata": {},
   "source": [
    "## 5.1. Merge"
   ]
  },
  {
   "cell_type": "markdown",
   "metadata": {},
   "source": [
    "**1️⃣**What to be merged"
   ]
  },
  {
   "cell_type": "code",
   "execution_count": 50,
   "metadata": {},
   "outputs": [
    {
     "data": {
      "text/html": [
       "<div>\n",
       "<style scoped>\n",
       "    .dataframe tbody tr th:only-of-type {\n",
       "        vertical-align: middle;\n",
       "    }\n",
       "\n",
       "    .dataframe tbody tr th {\n",
       "        vertical-align: top;\n",
       "    }\n",
       "\n",
       "    .dataframe thead th {\n",
       "        text-align: right;\n",
       "    }\n",
       "</style>\n",
       "<table border=\"1\" class=\"dataframe\">\n",
       "  <thead>\n",
       "    <tr style=\"text-align: right;\">\n",
       "      <th></th>\n",
       "      <th>User-ID</th>\n",
       "      <th>User-Location-Encoded</th>\n",
       "      <th>User-Age-Binned</th>\n",
       "    </tr>\n",
       "  </thead>\n",
       "  <tbody>\n",
       "    <tr>\n",
       "      <th>0</th>\n",
       "      <td>8</td>\n",
       "      <td>-1.991200</td>\n",
       "      <td>0.461292</td>\n",
       "    </tr>\n",
       "    <tr>\n",
       "      <th>1</th>\n",
       "      <td>9</td>\n",
       "      <td>0.982708</td>\n",
       "      <td>-0.238173</td>\n",
       "    </tr>\n",
       "    <tr>\n",
       "      <th>2</th>\n",
       "      <td>16</td>\n",
       "      <td>0.660236</td>\n",
       "      <td>0.811025</td>\n",
       "    </tr>\n",
       "    <tr>\n",
       "      <th>3</th>\n",
       "      <td>17</td>\n",
       "      <td>1.054368</td>\n",
       "      <td>1.510490</td>\n",
       "    </tr>\n",
       "    <tr>\n",
       "      <th>4</th>\n",
       "      <td>19</td>\n",
       "      <td>0.875217</td>\n",
       "      <td>-1.637104</td>\n",
       "    </tr>\n",
       "  </tbody>\n",
       "</table>\n",
       "</div>"
      ],
      "text/plain": [
       "   User-ID  User-Location-Encoded  User-Age-Binned\n",
       "0        8              -1.991200         0.461292\n",
       "1        9               0.982708        -0.238173\n",
       "2       16               0.660236         0.811025\n",
       "3       17               1.054368         1.510490\n",
       "4       19               0.875217        -1.637104"
      ]
     },
     "metadata": {},
     "output_type": "display_data"
    },
    {
     "data": {
      "text/html": [
       "<div>\n",
       "<style scoped>\n",
       "    .dataframe tbody tr th:only-of-type {\n",
       "        vertical-align: middle;\n",
       "    }\n",
       "\n",
       "    .dataframe tbody tr th {\n",
       "        vertical-align: top;\n",
       "    }\n",
       "\n",
       "    .dataframe thead th {\n",
       "        text-align: right;\n",
       "    }\n",
       "</style>\n",
       "<table border=\"1\" class=\"dataframe\">\n",
       "  <thead>\n",
       "    <tr style=\"text-align: right;\">\n",
       "      <th></th>\n",
       "      <th>Year-Of-Publication-Binned</th>\n",
       "      <th>Book-Author-Encoded</th>\n",
       "      <th>Book-Publisher-Encoded</th>\n",
       "      <th>Book-Title-Embeddings</th>\n",
       "      <th>ISBN</th>\n",
       "    </tr>\n",
       "  </thead>\n",
       "  <tbody>\n",
       "    <tr>\n",
       "      <th>0</th>\n",
       "      <td>0.805577</td>\n",
       "      <td>1.015915</td>\n",
       "      <td>-0.341609</td>\n",
       "      <td>1.413804</td>\n",
       "      <td>0002005018</td>\n",
       "    </tr>\n",
       "    <tr>\n",
       "      <th>1</th>\n",
       "      <td>-0.078196</td>\n",
       "      <td>-0.598266</td>\n",
       "      <td>-0.625418</td>\n",
       "      <td>-0.283957</td>\n",
       "      <td>0374157065</td>\n",
       "    </tr>\n",
       "    <tr>\n",
       "      <th>2</th>\n",
       "      <td>-0.078196</td>\n",
       "      <td>-1.628969</td>\n",
       "      <td>0.710440</td>\n",
       "      <td>0.202358</td>\n",
       "      <td>0399135782</td>\n",
       "    </tr>\n",
       "    <tr>\n",
       "      <th>3</th>\n",
       "      <td>-0.078196</td>\n",
       "      <td>-0.112035</td>\n",
       "      <td>-0.916566</td>\n",
       "      <td>0.916647</td>\n",
       "      <td>0440234743</td>\n",
       "    </tr>\n",
       "    <tr>\n",
       "      <th>4</th>\n",
       "      <td>-0.078196</td>\n",
       "      <td>1.519245</td>\n",
       "      <td>0.607682</td>\n",
       "      <td>-0.554531</td>\n",
       "      <td>0452264464</td>\n",
       "    </tr>\n",
       "  </tbody>\n",
       "</table>\n",
       "</div>"
      ],
      "text/plain": [
       "   Year-Of-Publication-Binned  Book-Author-Encoded  Book-Publisher-Encoded  \\\n",
       "0                    0.805577             1.015915               -0.341609   \n",
       "1                   -0.078196            -0.598266               -0.625418   \n",
       "2                   -0.078196            -1.628969                0.710440   \n",
       "3                   -0.078196            -0.112035               -0.916566   \n",
       "4                   -0.078196             1.519245                0.607682   \n",
       "\n",
       "   Book-Title-Embeddings        ISBN  \n",
       "0               1.413804  0002005018  \n",
       "1              -0.283957  0374157065  \n",
       "2               0.202358  0399135782  \n",
       "3               0.916647  0440234743  \n",
       "4              -0.554531  0452264464  "
      ]
     },
     "metadata": {},
     "output_type": "display_data"
    },
    {
     "data": {
      "text/html": [
       "<div>\n",
       "<style scoped>\n",
       "    .dataframe tbody tr th:only-of-type {\n",
       "        vertical-align: middle;\n",
       "    }\n",
       "\n",
       "    .dataframe tbody tr th {\n",
       "        vertical-align: top;\n",
       "    }\n",
       "\n",
       "    .dataframe thead th {\n",
       "        text-align: right;\n",
       "    }\n",
       "</style>\n",
       "<table border=\"1\" class=\"dataframe\">\n",
       "  <thead>\n",
       "    <tr style=\"text-align: right;\">\n",
       "      <th></th>\n",
       "      <th>User-ID</th>\n",
       "      <th>ISBN</th>\n",
       "      <th>Book-Rating</th>\n",
       "    </tr>\n",
       "  </thead>\n",
       "  <tbody>\n",
       "    <tr>\n",
       "      <th>0</th>\n",
       "      <td>276744</td>\n",
       "      <td>038550120X</td>\n",
       "      <td>7</td>\n",
       "    </tr>\n",
       "    <tr>\n",
       "      <th>1</th>\n",
       "      <td>276754</td>\n",
       "      <td>0684867621</td>\n",
       "      <td>8</td>\n",
       "    </tr>\n",
       "    <tr>\n",
       "      <th>2</th>\n",
       "      <td>276755</td>\n",
       "      <td>0451166892</td>\n",
       "      <td>5</td>\n",
       "    </tr>\n",
       "    <tr>\n",
       "      <th>3</th>\n",
       "      <td>276762</td>\n",
       "      <td>0380711524</td>\n",
       "      <td>5</td>\n",
       "    </tr>\n",
       "    <tr>\n",
       "      <th>4</th>\n",
       "      <td>276772</td>\n",
       "      <td>0553572369</td>\n",
       "      <td>7</td>\n",
       "    </tr>\n",
       "  </tbody>\n",
       "</table>\n",
       "</div>"
      ],
      "text/plain": [
       "   User-ID        ISBN  Book-Rating\n",
       "0   276744  038550120X            7\n",
       "1   276754  0684867621            8\n",
       "2   276755  0451166892            5\n",
       "3   276762  0380711524            5\n",
       "4   276772  0553572369            7"
      ]
     },
     "metadata": {},
     "output_type": "display_data"
    }
   ],
   "source": [
    "display(users_cleaned.head())\n",
    "display(books_cleaned.head())\n",
    "display(ratings_cleaned.head())"
   ]
  },
  {
   "cell_type": "markdown",
   "metadata": {},
   "source": [
    "**2️⃣**Merge"
   ]
  },
  {
   "cell_type": "code",
   "execution_count": 51,
   "metadata": {},
   "outputs": [
    {
     "data": {
      "text/html": [
       "<div>\n",
       "<style scoped>\n",
       "    .dataframe tbody tr th:only-of-type {\n",
       "        vertical-align: middle;\n",
       "    }\n",
       "\n",
       "    .dataframe tbody tr th {\n",
       "        vertical-align: top;\n",
       "    }\n",
       "\n",
       "    .dataframe thead th {\n",
       "        text-align: right;\n",
       "    }\n",
       "</style>\n",
       "<table border=\"1\" class=\"dataframe\">\n",
       "  <thead>\n",
       "    <tr style=\"text-align: right;\">\n",
       "      <th></th>\n",
       "      <th>Book-Rating</th>\n",
       "      <th>Year-Of-Publication-Binned</th>\n",
       "      <th>Book-Author-Encoded</th>\n",
       "      <th>Book-Publisher-Encoded</th>\n",
       "      <th>Book-Title-Embeddings</th>\n",
       "      <th>User-Age-Binned</th>\n",
       "      <th>User-Location-Encoded</th>\n",
       "    </tr>\n",
       "  </thead>\n",
       "  <tbody>\n",
       "    <tr>\n",
       "      <th>0</th>\n",
       "      <td>7</td>\n",
       "      <td>0.805577</td>\n",
       "      <td>-0.391484</td>\n",
       "      <td>-0.823595</td>\n",
       "      <td>0.539661</td>\n",
       "      <td>-0.937638</td>\n",
       "      <td>-0.020538</td>\n",
       "    </tr>\n",
       "    <tr>\n",
       "      <th>1</th>\n",
       "      <td>8</td>\n",
       "      <td>-0.078196</td>\n",
       "      <td>1.321546</td>\n",
       "      <td>0.979569</td>\n",
       "      <td>-0.494499</td>\n",
       "      <td>-1.287371</td>\n",
       "      <td>-2.062860</td>\n",
       "    </tr>\n",
       "    <tr>\n",
       "      <th>2</th>\n",
       "      <td>5</td>\n",
       "      <td>-0.078196</td>\n",
       "      <td>0.113449</td>\n",
       "      <td>1.026055</td>\n",
       "      <td>0.465378</td>\n",
       "      <td>-0.238173</td>\n",
       "      <td>-1.489577</td>\n",
       "    </tr>\n",
       "    <tr>\n",
       "      <th>3</th>\n",
       "      <td>5</td>\n",
       "      <td>-0.078196</td>\n",
       "      <td>-0.029215</td>\n",
       "      <td>-1.388765</td>\n",
       "      <td>1.340071</td>\n",
       "      <td>-0.937638</td>\n",
       "      <td>-1.525407</td>\n",
       "    </tr>\n",
       "    <tr>\n",
       "      <th>4</th>\n",
       "      <td>7</td>\n",
       "      <td>-0.078196</td>\n",
       "      <td>0.953400</td>\n",
       "      <td>-1.344726</td>\n",
       "      <td>-1.174113</td>\n",
       "      <td>0.811025</td>\n",
       "      <td>-1.525407</td>\n",
       "    </tr>\n",
       "  </tbody>\n",
       "</table>\n",
       "</div>"
      ],
      "text/plain": [
       "   Book-Rating  Year-Of-Publication-Binned  Book-Author-Encoded  \\\n",
       "0            7                    0.805577            -0.391484   \n",
       "1            8                   -0.078196             1.321546   \n",
       "2            5                   -0.078196             0.113449   \n",
       "3            5                   -0.078196            -0.029215   \n",
       "4            7                   -0.078196             0.953400   \n",
       "\n",
       "   Book-Publisher-Encoded  Book-Title-Embeddings  User-Age-Binned  \\\n",
       "0               -0.823595               0.539661        -0.937638   \n",
       "1                0.979569              -0.494499        -1.287371   \n",
       "2                1.026055               0.465378        -0.238173   \n",
       "3               -1.388765               1.340071        -0.937638   \n",
       "4               -1.344726              -1.174113         0.811025   \n",
       "\n",
       "   User-Location-Encoded  \n",
       "0              -0.020538  \n",
       "1              -2.062860  \n",
       "2              -1.489577  \n",
       "3              -1.525407  \n",
       "4              -1.525407  "
      ]
     },
     "metadata": {},
     "output_type": "display_data"
    }
   ],
   "source": [
    "# 首先，根据 'ISBN' 合并 ratings_cleaned 和 books_cleaned\n",
    "merged_data = pd.merge(ratings_cleaned, books_cleaned, on='ISBN', how='inner')\n",
    "# 然后，根据 'User-ID' 合并新的 merged_data 与 users_cleaned\n",
    "merged_data = pd.merge(merged_data, users_cleaned, on='User-ID', how='inner')\n",
    "# 确保 merged_data 只包含所需的列\n",
    "merged_data = merged_data[['Book-Rating', 'Year-Of-Publication-Binned',\n",
    "                           'Book-Author-Encoded', 'Book-Publisher-Encoded', 'Book-Title-Embeddings',\n",
    "                           'User-Age-Binned', 'User-Location-Encoded']]\n",
    "# 现在 merged_data 包含了所需的所有列\n",
    "display(merged_data.head())"
   ]
  },
  {
   "cell_type": "markdown",
   "metadata": {},
   "source": [
    "## 5.2. Correlation"
   ]
  },
  {
   "cell_type": "markdown",
   "metadata": {},
   "source": [
    "### 5.2.1. Linear relationship correlation (Pearson)"
   ]
  },
  {
   "cell_type": "code",
   "execution_count": 52,
   "metadata": {},
   "outputs": [
    {
     "data": {
      "image/png": "[encoded data removed]",
      "text/plain": [
       "<Figure size 600x500 with 2 Axes>"
      ]
     },
     "metadata": {},
     "output_type": "display_data"
    }
   ],
   "source": [
    "X = merged_data\n",
    "pearson_corr_matrix = X.corr()\n",
    "plt.figure(figsize=(6, 5))\n",
    "sns.heatmap(pearson_corr_matrix, annot=True, cmap='coolwarm', fmt=\".2f\")\n",
    "plt.title('Linear relationship correlation (Pearson)')\n",
    "plt.show()"
   ]
  },
  {
   "cell_type": "markdown",
   "metadata": {},
   "source": [
    "### 5.2.2. Non-linear relationship correlation (Mutual Information)"
   ]
  },
  {
   "cell_type": "code",
   "execution_count": 53,
   "metadata": {},
   "outputs": [
    {
     "data": {
      "image/png": "[encoded data removed]",
      "text/plain": [
       "<Figure size 600x500 with 2 Axes>"
      ]
     },
     "metadata": {},
     "output_type": "display_data"
    }
   ],
   "source": [
    "X = merged_data\n",
    "# Create an empty DataFrame to store mutual information values\n",
    "mi_matrix = pd.DataFrame(index=X.columns, columns=X.columns, dtype=float)\n",
    "# Calculate mutual information for each pair of features\n",
    "for column_i in X.columns:\n",
    "    for column_j in X.columns:\n",
    "        mi_matrix.loc[column_i, column_j] = mutual_info_score(X[column_i], X[column_j])\n",
    "# The mutual information matrix is symmetric; enhance symmetry by averaging the matrix with its transpose\n",
    "mi_matrix = (mi_matrix + mi_matrix.T) / 2\n",
    "# Plot the heatmap\n",
    "plt.figure(figsize=(6, 5))\n",
    "sns.heatmap(mi_matrix, annot=True, cmap='coolwarm', fmt=\".2f\")\n",
    "plt.title('Non-linear relationship correlation (Mutual Information)')\n",
    "plt.show()"
   ]
  }
 ],
 "metadata": {
  "kernelspec": {
   "display_name": "EODP-2",
   "language": "python",
   "name": "python3"
  },
  "language_info": {
   "codemirror_mode": {
    "name": "ipython",
    "version": 3
   },
   "file_extension": ".py",
   "mimetype": "text/x-python",
   "name": "python",
   "nbconvert_exporter": "python",
   "pygments_lexer": "ipython3",
   "version": "3.11.9"
  }
 },
 "nbformat": 4,
 "nbformat_minor": 2
}
